{
 "cells": [
  {
   "cell_type": "markdown",
   "metadata": {},
   "source": [
    "Business Understanding"
   ]
  },
  {
   "cell_type": "markdown",
   "metadata": {},
   "source": [
    "The objective of these Research Project is to come up with a model performing better than what is considered the state of the art in predicting soccer match results. \n",
    "\n",
    "The main objective of this project is to explore the different data related to teams and players to predict the score and outcome of football matches. We will explore different model design hypotheses focusing on the different data captured and we compare ours models performance against benchmark techniques.\n",
    "\n",
    "Our goal is to come up with a model capable to overpass the performance of a model using the odds of the main online bookmakers."
   ]
  },
  {
   "cell_type": "markdown",
   "metadata": {},
   "source": [
    "Data Understanding\n"
   ]
  },
  {
   "cell_type": "markdown",
   "metadata": {},
   "source": [
    "Collect Data\n",
    "\n",
    "https://www.kaggle.com/hugomathien/soccer#database.sqlite\n",
    "http://www.football-data.co.uk/spainm.php\n",
    "http://www.football-data.co.uk/englandm.php"
   ]
  },
  {
   "cell_type": "markdown",
   "metadata": {},
   "source": [
    "Describe Data\n",
    "\n",
    "https://www.kaggle.com/hugomathien/soccer#database.sqlite\n",
    "\n",
    "The ultimate Soccer database for data analysis and machine learning\n",
    "What you get:\n",
    "\n",
    "+25,000 matches\n",
    "+10,000 players\n",
    "11 European Countries with their lead championship\n",
    "Seasons 2008 to 2016\n",
    "Players and Teams' attributes* sourced from EA Sports' FIFA video game series, including the weekly updates\n",
    "Team line up with squad formation (X, Y coordinates)\n",
    "Betting odds from up to 10 providers\n",
    "Detailed match events (goal types, possession, corner, cross, fouls, cards etc...) for +10,000 matches\n",
    "\n",
    "\n",
    "The data source is a .sqlite file which contained 7 tables:\n",
    "\n",
    "Country:\tA table containing the country name of soccer teams\n",
    "League:\tA table containing the name of all the soccer leagues\n",
    "Match:\tA table containing all the match details from 2007 to 2016\n",
    "Player:\tA table containing all player ID and player name for all the teams\n",
    "Player Attributes:\tA table containing additional information of all the players such as attacking ability, defensive ability, strength, etc.\n",
    "Team:\tA table containing all the team ID and team name\n",
    "Team Attributes:\tA table containing additional information of all the teams such as their attacking and defensive ability, etc.\n",
    "\n",
    "\n"
   ]
  },
  {
   "cell_type": "markdown",
   "metadata": {},
   "source": [
    "http://www.football-data.co.uk/spainm.php\n",
    "http://www.football-data.co.uk/englandm.php\n",
    "\n",
    "Key to results data:\n",
    "\n",
    "Div = League Division\n",
    "Date = Match Date (dd/mm/yy)\n",
    "HomeTeam = Home Team\n",
    "AwayTeam = Away Team\n",
    "FTHG and HG = Full Time Home Team Goals\n",
    "FTAG and AG = Full Time Away Team Goals\n",
    "FTR and Res = Full Time Result (H=Home Win, D=Draw, A=Away Win)\n",
    "HTHG = Half Time Home Team Goals\n",
    "HTAG = Half Time Away Team Goals\n",
    "HTR = Half Time Result (H=Home Win, D=Draw, A=Away Win)\n",
    "\n",
    "Match Statistics (where available)\n",
    "Attendance = Crowd Attendance\n",
    "Referee = Match Referee\n",
    "HS = Home Team Shots\n",
    "AS = Away Team Shots\n",
    "HST = Home Team Shots on Target\n",
    "AST = Away Team Shots on Target\n",
    "HHW = Home Team Hit Woodwork\n",
    "AHW = Away Team Hit Woodwork\n",
    "HC = Home Team Corners\n",
    "AC = Away Team Corners\n",
    "HF = Home Team Fouls Committed\n",
    "AF = Away Team Fouls Committed\n",
    "HFKC = Home Team Free Kicks Conceded\n",
    "AFKC = Away Team Free Kicks Conceded\n",
    "HO = Home Team Offsides\n",
    "AO = Away Team Offsides\n",
    "HY = Home Team Yellow Cards\n",
    "AY = Away Team Yellow Cards\n",
    "HR = Home Team Red Cards\n",
    "AR = Away Team Red Cards\n",
    "HBP = Home Team Bookings Points (10 = yellow, 25 = red)\n",
    "ABP = Away Team Bookings Points (10 = yellow, 25 = red)"
   ]
  },
  {
   "cell_type": "markdown",
   "metadata": {},
   "source": []
  },
  {
   "cell_type": "markdown",
   "metadata": {},
   "source": []
  },
  {
   "cell_type": "code",
   "execution_count": null,
   "metadata": {},
   "outputs": [],
   "source": []
  },
  {
   "cell_type": "code",
   "execution_count": null,
   "metadata": {},
   "outputs": [],
   "source": []
  }
 ],
 "metadata": {
  "kernelspec": {
   "display_name": "Python 3",
   "language": "python",
   "name": "python3"
  },
  "language_info": {
   "codemirror_mode": {
    "name": "ipython",
    "version": 3
   },
   "file_extension": ".py",
   "mimetype": "text/x-python",
   "name": "python",
   "nbconvert_exporter": "python",
   "pygments_lexer": "ipython3",
   "version": "3.7.0"
  }
 },
 "nbformat": 4,
 "nbformat_minor": 2
}
