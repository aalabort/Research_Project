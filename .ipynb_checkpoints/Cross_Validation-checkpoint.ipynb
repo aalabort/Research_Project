{
 "cells": [
  {
   "cell_type": "code",
   "execution_count": 1,
   "metadata": {},
   "outputs": [
    {
     "name": "stdout",
     "output_type": "stream",
     "text": [
      "data/df_stanford_real_features_leagues_[1729]_seasons_['15_16', '14_15', '13_14', '12_13', '11_12', '10_11', '09_10'].csv\n"
     ]
    },
    {
     "ename": "FileNotFoundError",
     "evalue": "File b\"data/df_stanford_real_features_leagues_[1729]_seasons_['15_16', '14_15', '13_14', '12_13', '11_12', '10_11', '09_10'].csv\" does not exist",
     "output_type": "error",
     "traceback": [
      "\u001b[0;31m---------------------------------------------------------------------------\u001b[0m",
      "\u001b[0;31mFileNotFoundError\u001b[0m                         Traceback (most recent call last)",
      "\u001b[0;32m<ipython-input-1-088487ab766e>\u001b[0m in \u001b[0;36m<module>\u001b[0;34m\u001b[0m\n\u001b[1;32m     35\u001b[0m \u001b[0;31m## Reading and preparing datasets\u001b[0m\u001b[0;34m\u001b[0m\u001b[0;34m\u001b[0m\u001b[0m\n\u001b[1;32m     36\u001b[0m \u001b[0;34m\u001b[0m\u001b[0m\n\u001b[0;32m---> 37\u001b[0;31m \u001b[0mdf\u001b[0m \u001b[0;34m=\u001b[0m \u001b[0mpd\u001b[0m\u001b[0;34m.\u001b[0m\u001b[0mread_csv\u001b[0m\u001b[0;34m(\u001b[0m\u001b[0mdataset\u001b[0m\u001b[0;34m)\u001b[0m\u001b[0;34m\u001b[0m\u001b[0m\n\u001b[0m\u001b[1;32m     38\u001b[0m \u001b[0mdf\u001b[0m\u001b[0;34m.\u001b[0m\u001b[0mhead\u001b[0m\u001b[0;34m(\u001b[0m\u001b[0;34m)\u001b[0m\u001b[0;34m\u001b[0m\u001b[0m\n\u001b[1;32m     39\u001b[0m \u001b[0;34m\u001b[0m\u001b[0m\n",
      "\u001b[0;32m/usr/local/lib/python3.7/site-packages/pandas/io/parsers.py\u001b[0m in \u001b[0;36mparser_f\u001b[0;34m(filepath_or_buffer, sep, delimiter, header, names, index_col, usecols, squeeze, prefix, mangle_dupe_cols, dtype, engine, converters, true_values, false_values, skipinitialspace, skiprows, nrows, na_values, keep_default_na, na_filter, verbose, skip_blank_lines, parse_dates, infer_datetime_format, keep_date_col, date_parser, dayfirst, iterator, chunksize, compression, thousands, decimal, lineterminator, quotechar, quoting, escapechar, comment, encoding, dialect, tupleize_cols, error_bad_lines, warn_bad_lines, skipfooter, doublequote, delim_whitespace, low_memory, memory_map, float_precision)\u001b[0m\n\u001b[1;32m    676\u001b[0m                     skip_blank_lines=skip_blank_lines)\n\u001b[1;32m    677\u001b[0m \u001b[0;34m\u001b[0m\u001b[0m\n\u001b[0;32m--> 678\u001b[0;31m         \u001b[0;32mreturn\u001b[0m \u001b[0m_read\u001b[0m\u001b[0;34m(\u001b[0m\u001b[0mfilepath_or_buffer\u001b[0m\u001b[0;34m,\u001b[0m \u001b[0mkwds\u001b[0m\u001b[0;34m)\u001b[0m\u001b[0;34m\u001b[0m\u001b[0m\n\u001b[0m\u001b[1;32m    679\u001b[0m \u001b[0;34m\u001b[0m\u001b[0m\n\u001b[1;32m    680\u001b[0m     \u001b[0mparser_f\u001b[0m\u001b[0;34m.\u001b[0m\u001b[0m__name__\u001b[0m \u001b[0;34m=\u001b[0m \u001b[0mname\u001b[0m\u001b[0;34m\u001b[0m\u001b[0m\n",
      "\u001b[0;32m/usr/local/lib/python3.7/site-packages/pandas/io/parsers.py\u001b[0m in \u001b[0;36m_read\u001b[0;34m(filepath_or_buffer, kwds)\u001b[0m\n\u001b[1;32m    438\u001b[0m \u001b[0;34m\u001b[0m\u001b[0m\n\u001b[1;32m    439\u001b[0m     \u001b[0;31m# Create the parser.\u001b[0m\u001b[0;34m\u001b[0m\u001b[0;34m\u001b[0m\u001b[0m\n\u001b[0;32m--> 440\u001b[0;31m     \u001b[0mparser\u001b[0m \u001b[0;34m=\u001b[0m \u001b[0mTextFileReader\u001b[0m\u001b[0;34m(\u001b[0m\u001b[0mfilepath_or_buffer\u001b[0m\u001b[0;34m,\u001b[0m \u001b[0;34m**\u001b[0m\u001b[0mkwds\u001b[0m\u001b[0;34m)\u001b[0m\u001b[0;34m\u001b[0m\u001b[0m\n\u001b[0m\u001b[1;32m    441\u001b[0m \u001b[0;34m\u001b[0m\u001b[0m\n\u001b[1;32m    442\u001b[0m     \u001b[0;32mif\u001b[0m \u001b[0mchunksize\u001b[0m \u001b[0;32mor\u001b[0m \u001b[0miterator\u001b[0m\u001b[0;34m:\u001b[0m\u001b[0;34m\u001b[0m\u001b[0m\n",
      "\u001b[0;32m/usr/local/lib/python3.7/site-packages/pandas/io/parsers.py\u001b[0m in \u001b[0;36m__init__\u001b[0;34m(self, f, engine, **kwds)\u001b[0m\n\u001b[1;32m    785\u001b[0m             \u001b[0mself\u001b[0m\u001b[0;34m.\u001b[0m\u001b[0moptions\u001b[0m\u001b[0;34m[\u001b[0m\u001b[0;34m'has_index_names'\u001b[0m\u001b[0;34m]\u001b[0m \u001b[0;34m=\u001b[0m \u001b[0mkwds\u001b[0m\u001b[0;34m[\u001b[0m\u001b[0;34m'has_index_names'\u001b[0m\u001b[0;34m]\u001b[0m\u001b[0;34m\u001b[0m\u001b[0m\n\u001b[1;32m    786\u001b[0m \u001b[0;34m\u001b[0m\u001b[0m\n\u001b[0;32m--> 787\u001b[0;31m         \u001b[0mself\u001b[0m\u001b[0;34m.\u001b[0m\u001b[0m_make_engine\u001b[0m\u001b[0;34m(\u001b[0m\u001b[0mself\u001b[0m\u001b[0;34m.\u001b[0m\u001b[0mengine\u001b[0m\u001b[0;34m)\u001b[0m\u001b[0;34m\u001b[0m\u001b[0m\n\u001b[0m\u001b[1;32m    788\u001b[0m \u001b[0;34m\u001b[0m\u001b[0m\n\u001b[1;32m    789\u001b[0m     \u001b[0;32mdef\u001b[0m \u001b[0mclose\u001b[0m\u001b[0;34m(\u001b[0m\u001b[0mself\u001b[0m\u001b[0;34m)\u001b[0m\u001b[0;34m:\u001b[0m\u001b[0;34m\u001b[0m\u001b[0m\n",
      "\u001b[0;32m/usr/local/lib/python3.7/site-packages/pandas/io/parsers.py\u001b[0m in \u001b[0;36m_make_engine\u001b[0;34m(self, engine)\u001b[0m\n\u001b[1;32m   1012\u001b[0m     \u001b[0;32mdef\u001b[0m \u001b[0m_make_engine\u001b[0m\u001b[0;34m(\u001b[0m\u001b[0mself\u001b[0m\u001b[0;34m,\u001b[0m \u001b[0mengine\u001b[0m\u001b[0;34m=\u001b[0m\u001b[0;34m'c'\u001b[0m\u001b[0;34m)\u001b[0m\u001b[0;34m:\u001b[0m\u001b[0;34m\u001b[0m\u001b[0m\n\u001b[1;32m   1013\u001b[0m         \u001b[0;32mif\u001b[0m \u001b[0mengine\u001b[0m \u001b[0;34m==\u001b[0m \u001b[0;34m'c'\u001b[0m\u001b[0;34m:\u001b[0m\u001b[0;34m\u001b[0m\u001b[0m\n\u001b[0;32m-> 1014\u001b[0;31m             \u001b[0mself\u001b[0m\u001b[0;34m.\u001b[0m\u001b[0m_engine\u001b[0m \u001b[0;34m=\u001b[0m \u001b[0mCParserWrapper\u001b[0m\u001b[0;34m(\u001b[0m\u001b[0mself\u001b[0m\u001b[0;34m.\u001b[0m\u001b[0mf\u001b[0m\u001b[0;34m,\u001b[0m \u001b[0;34m**\u001b[0m\u001b[0mself\u001b[0m\u001b[0;34m.\u001b[0m\u001b[0moptions\u001b[0m\u001b[0;34m)\u001b[0m\u001b[0;34m\u001b[0m\u001b[0m\n\u001b[0m\u001b[1;32m   1015\u001b[0m         \u001b[0;32melse\u001b[0m\u001b[0;34m:\u001b[0m\u001b[0;34m\u001b[0m\u001b[0m\n\u001b[1;32m   1016\u001b[0m             \u001b[0;32mif\u001b[0m \u001b[0mengine\u001b[0m \u001b[0;34m==\u001b[0m \u001b[0;34m'python'\u001b[0m\u001b[0;34m:\u001b[0m\u001b[0;34m\u001b[0m\u001b[0m\n",
      "\u001b[0;32m/usr/local/lib/python3.7/site-packages/pandas/io/parsers.py\u001b[0m in \u001b[0;36m__init__\u001b[0;34m(self, src, **kwds)\u001b[0m\n\u001b[1;32m   1706\u001b[0m         \u001b[0mkwds\u001b[0m\u001b[0;34m[\u001b[0m\u001b[0;34m'usecols'\u001b[0m\u001b[0;34m]\u001b[0m \u001b[0;34m=\u001b[0m \u001b[0mself\u001b[0m\u001b[0;34m.\u001b[0m\u001b[0musecols\u001b[0m\u001b[0;34m\u001b[0m\u001b[0m\n\u001b[1;32m   1707\u001b[0m \u001b[0;34m\u001b[0m\u001b[0m\n\u001b[0;32m-> 1708\u001b[0;31m         \u001b[0mself\u001b[0m\u001b[0;34m.\u001b[0m\u001b[0m_reader\u001b[0m \u001b[0;34m=\u001b[0m \u001b[0mparsers\u001b[0m\u001b[0;34m.\u001b[0m\u001b[0mTextReader\u001b[0m\u001b[0;34m(\u001b[0m\u001b[0msrc\u001b[0m\u001b[0;34m,\u001b[0m \u001b[0;34m**\u001b[0m\u001b[0mkwds\u001b[0m\u001b[0;34m)\u001b[0m\u001b[0;34m\u001b[0m\u001b[0m\n\u001b[0m\u001b[1;32m   1709\u001b[0m \u001b[0;34m\u001b[0m\u001b[0m\n\u001b[1;32m   1710\u001b[0m         \u001b[0mpassed_names\u001b[0m \u001b[0;34m=\u001b[0m \u001b[0mself\u001b[0m\u001b[0;34m.\u001b[0m\u001b[0mnames\u001b[0m \u001b[0;32mis\u001b[0m \u001b[0;32mNone\u001b[0m\u001b[0;34m\u001b[0m\u001b[0m\n",
      "\u001b[0;32mpandas/_libs/parsers.pyx\u001b[0m in \u001b[0;36mpandas._libs.parsers.TextReader.__cinit__\u001b[0;34m()\u001b[0m\n",
      "\u001b[0;32mpandas/_libs/parsers.pyx\u001b[0m in \u001b[0;36mpandas._libs.parsers.TextReader._setup_parser_source\u001b[0;34m()\u001b[0m\n",
      "\u001b[0;31mFileNotFoundError\u001b[0m: File b\"data/df_stanford_real_features_leagues_[1729]_seasons_['15_16', '14_15', '13_14', '12_13', '11_12', '10_11', '09_10'].csv\" does not exist"
     ]
    }
   ],
   "source": [
    "import pandas as pd\n",
    "import numpy as np\n",
    "\n",
    "import sklearn.preprocessing as preprocessing\n",
    "\n",
    "import matplotlib.pyplot as plt\n",
    "%matplotlib inline\n",
    "\n",
    "\n",
    "import seaborn as sns\n",
    "from sklearn.model_selection import train_test_split\n",
    "\n",
    "\n",
    "from sklearn.linear_model import LogisticRegression\n",
    "from sklearn.svm import SVC\n",
    "\n",
    "from sklearn.metrics import f1_score\n",
    "from sklearn.metrics import roc_curve, auc\n",
    "from sklearn.multiclass import OneVsRestClassifier\n",
    "from sklearn.preprocessing import label_binarize\n",
    "\n",
    "## Variables\n",
    "\n",
    "dataset = 'data/df_stanford_real_features_leagues_[21518, 1729]_seasons_[\\'15_16\\', \\'14_15\\', \\'13_14\\', \\'12_13\\', \\'11_12\\', \\'10_11\\', \\'09_10\\'].csv'\n",
    "#dataset = 'data/df_stanford_fifa_features_leagues_[21518, 1729]_seasons_[\\'15_16\\', \\'14_15\\', \\'13_14\\', \\'12_13\\', \\'11_12\\', \\'10_11\\', \\'09_10\\'].csv'\n",
    "#dataset = 'data/df_match_with_clusters.csv'\n",
    "dataset = 'data/df_merge_dataset_stanford_real_fifa_leagues_[21518, 1729]_seasons_[\\'15_16\\', \\'14_15\\', \\'13_14\\', \\'12_13\\', \\'11_12\\', \\'10_11\\', \\'09_10\\'].csv'\n",
    "dataset = 'data/df_stanford_real_features_leagues_[1729]_seasons_[\\'15_16\\', \\'14_15\\', \\'13_14\\', \\'12_13\\', \\'11_12\\', \\'10_11\\', \\'09_10\\'].csv'\n",
    "\n",
    "print(dataset)\n",
    "random_seed =1\n",
    "\n",
    "\n",
    "\n",
    "## Reading and preparing datasets\n",
    "\n",
    "df = pd.read_csv(dataset)\n",
    "df.head()\n",
    "\n",
    "df.columns\n",
    "\n",
    "## Labels\n",
    "\n",
    "labels = df['labels']\n",
    "features = df.drop(columns = ['labels'])\n",
    "\n",
    "# Balance of classes\n",
    "\n",
    "sns.countplot(labels,label=\"Count\")\n",
    "\n",
    "plt.show()"
   ]
  },
  {
   "cell_type": "code",
   "execution_count": 2,
   "metadata": {},
   "outputs": [],
   "source": [
    "seasons = ['2015/2016','2014/2015','2012/2013','2011/2012','2010/2011','2009/2010']\n",
    "leagues_id = [21518,1729]\n",
    "# seasons = ['2015/2016','2014/2015']\n",
    "# leagues_id = [21518]\n",
    "\n",
    "dataset = 'stanford_fifa_features'"
   ]
  },
  {
   "cell_type": "code",
   "execution_count": 3,
   "metadata": {},
   "outputs": [],
   "source": [
    "def convert_to(df,type_to_convert, all_categorical = False,columns = 'None'):\n",
    " \n",
    "    if all_categorical == True:\n",
    "        categoric_types = df.select_dtypes(include=['object'])\n",
    "        if categoric_types.columns.empty:\n",
    "            print('No object types in the dataframe to be converted')\n",
    "            return df\n",
    "        else:\n",
    "            if 'labels' in categoric_types.columns:\n",
    "                categoric_types = list(categoric_types.columns)\n",
    "                categoric_types.remove('labels')\n",
    "                df[categoric_types] = df[categoric_types].astype('category')\n",
    "                columns = categoric_types\n",
    "        \n",
    "    else:\n",
    "        df[columns] = df[columns].astype('category')\n",
    "        \n",
    "        \n",
    "    if type_to_convert == 'labelling':\n",
    "        for column in columns:\n",
    "            df[column] = df[column].cat.codes\n",
    "    elif type_to_convert == 'onehot':\n",
    "        for column in columns:\n",
    "            df= pd.get_dummies(df, columns=[column])             \n",
    "      \n",
    "    return df"
   ]
  },
  {
   "cell_type": "code",
   "execution_count": null,
   "metadata": {},
   "outputs": [],
   "source": [
    "def convert_to(df,type_to_convert, all_categorical = False,columns = 'None'):\n",
    " \n",
    "    if all_categorical == True:\n",
    "        categoric_types = df.select_dtypes(include=['object','category']).columns\n",
    "        if categoric_types.empty:\n",
    "            print('No object types in the dataframe to be converted')\n",
    "            return df\n",
    "        else:\n",
    "            if 'labels' in categoric_types:\n",
    "                categoric_types.remove('labels')\n",
    "            df[categoric_types] = df[categoric_types].astype('category')\n",
    "            columns = categoric_types\n",
    "        \n",
    "    else:\n",
    "        df[columns] = df[columns].astype('category')\n",
    "        \n",
    "        \n",
    "    if type_to_convert == 'labelling':\n",
    "        for column in columns:\n",
    "            df[column] = df[column].cat.codes\n",
    "    elif type_to_convert == 'onehot':\n",
    "        for column in columns:\n",
    "            print(columns)\n",
    "            df= pd.get_dummies(df, columns=[column])             \n",
    "      \n",
    "    return df"
   ]
  },
  {
   "cell_type": "code",
   "execution_count": 4,
   "metadata": {},
   "outputs": [],
   "source": [
    "def cross_val_evaluation(clf,dataset,leagues_id, seasons, location_to_file = 'data/'):\n",
    "        \n",
    "    accuracies_train = []\n",
    "    accuracies_test = []\n",
    "    \n",
    "    \n",
    "    for league_id_test in leagues_id:\n",
    "        \n",
    "         \n",
    "        for season_test in seasons:\n",
    "            train_dataset_chunks = []\n",
    "            season_test = season_test.replace('/','_').replace('20','')\n",
    "\n",
    "            test_data = pd.read_csv(location_to_file+f'df_{dataset}_leagues_{league_id_test}_seasons_{season_test}.csv')\n",
    "               \n",
    "                \n",
    "            for season_train in seasons:\n",
    "                                              \n",
    "                season_train = season_train.replace('/','_').replace('20','')\n",
    "                \n",
    "                for league_id_train in leagues_id:\n",
    "                    if season_test != season_train or league_id_test != league_id_train:\n",
    "\n",
    "                        train_dataset_chunk = pd.read_csv(location_to_file+f'df_{dataset}_leagues_{league_id_train}_seasons_{season_train}.csv')\n",
    "\n",
    "                        train_dataset_chunks.append(train_dataset_chunk)\n",
    "\n",
    "\n",
    "            train_data = pd.concat(train_dataset_chunks)\n",
    "            \n",
    "            \n",
    "            ## Remove Rows With Missing Values\n",
    "            train_data.dropna(inplace=True)\n",
    "            test_data.dropna(inplace=True)\n",
    "            \n",
    "            len_train_data = len(train_data)\n",
    "            len_test_data = len(test_data)\n",
    "            \n",
    "            \n",
    "            all_data = pd.concat([train_data, test_data], ignore_index=True)\n",
    "\n",
    "            all_data = all_data.drop(columns= 'date')\n",
    "            \n",
    "            all_data_check_cat = all_data.copy()\n",
    "            all_data_check_cat = all_data_check_cat.drop(columns='labels')\n",
    "            categoric_types = all_data_check_cat.select_dtypes(include=['object'])\n",
    "\n",
    "            if not categoric_types.columns.empty:\n",
    "                all_data = convert_to(all_data,'onehot', all_categorical = True,columns ='None')\n",
    "            \n",
    "                if 'cluster_home' in all_data.columns:\n",
    "                    all_data = convert_to(all_data,'onehot', all_categorical = False,columns =['cluster_home','cluster_away'])\n",
    "\n",
    "            train_data = all_data.iloc[:len_train_data,:]\n",
    "            test_data = all_data.iloc[len_train_data:,:]\n",
    "            \n",
    "            \n",
    "            \n",
    "            train_labels = train_data['labels']\n",
    "            train_data = train_data.drop(columns='labels')\n",
    "            test_labels = test_data['labels']\n",
    "            test_data = test_data.drop(columns='labels')\n",
    "\n",
    "\n",
    "            #Change types\n",
    "\n",
    "\n",
    "            #features['stage'] = features['stage'].astype(int)  #uncomment when fifa players data has stage\n",
    "\n",
    "            #SCALER\n",
    "            scaler = preprocessing.MinMaxScaler()\n",
    "#             scaler = preprocessing.StandardScaler()\n",
    "#             scaler = preprocessing.RobustScaler()\n",
    "#             scaler = preprocessing.PowerTransformer()\n",
    "\n",
    "            numeric_types = train_data.select_dtypes(include=['float64','int'])\n",
    "\n",
    "\n",
    "            train_data[numeric_types.columns] = scaler.fit_transform(train_data[numeric_types.columns])\n",
    "            test_data[numeric_types.columns]  = scaler.transform(test_data[numeric_types.columns] )\n",
    "\n",
    "\n",
    "\n",
    "\n",
    "            clf.fit(train_data, train_labels)\n",
    "\n",
    "            acc_train = clf.score(train_data, train_labels)\n",
    "            \n",
    "            acc_test = clf.score(test_data, test_labels)\n",
    "                \n",
    "            print(len_train_data)\n",
    "            print(len_test_data)\n",
    "            print(f'Accuracy on training set: {acc_train}')\n",
    "            print(f'Accuracy on testing set (df_{dataset}_leagues_{league_id_test}_seasons_{season_test}.csv): {acc_test}')\n",
    "\n",
    "            accuracies_train.append(acc_train)\n",
    "            accuracies_test.append(acc_test)\n",
    "                                                     \n",
    "                                                          \n",
    "                                                          \n",
    "    avg_train_acc = np.mean(accuracies_train)\n",
    "    avg_test_acc = np.mean(accuracies_test)                                                 \n",
    "                                                          \n",
    "    print('.......................')\n",
    "    print(f'Avg Accuracy on training set: {avg_train_acc}')\n",
    "    print(f'Avg Accuracy on testing set: {avg_test_acc}')                                                \n",
    "\n",
    "\n"
   ]
  },
  {
   "cell_type": "code",
   "execution_count": 5,
   "metadata": {},
   "outputs": [
    {
     "name": "stderr",
     "output_type": "stream",
     "text": [
      "/usr/local/lib/python3.7/site-packages/sklearn/preprocessing/data.py:323: DataConversionWarning: Data with input dtype int64, float64 were all converted to float64 by MinMaxScaler.\n",
      "  return self.partial_fit(X, y)\n",
      "/usr/local/lib/python3.7/site-packages/sklearn/svm/base.py:196: FutureWarning: The default value of gamma will change from 'auto' to 'scale' in version 0.22 to account better for unscaled features. Set gamma explicitly to 'auto' or 'scale' to avoid this warning.\n",
      "  \"avoid this warning.\", FutureWarning)\n"
     ]
    },
    {
     "name": "stdout",
     "output_type": "stream",
     "text": [
      "4141\n",
      "380\n",
      "Accuracy on training set: 0.5406906544312968\n",
      "Accuracy on testing set (df_stanford_fifa_features_leagues_21518_seasons_15_16.csv): 0.5421052631578948\n"
     ]
    },
    {
     "name": "stderr",
     "output_type": "stream",
     "text": [
      "/usr/local/lib/python3.7/site-packages/sklearn/preprocessing/data.py:323: DataConversionWarning: Data with input dtype int64, float64 were all converted to float64 by MinMaxScaler.\n",
      "  return self.partial_fit(X, y)\n",
      "/usr/local/lib/python3.7/site-packages/sklearn/svm/base.py:196: FutureWarning: The default value of gamma will change from 'auto' to 'scale' in version 0.22 to account better for unscaled features. Set gamma explicitly to 'auto' or 'scale' to avoid this warning.\n",
      "  \"avoid this warning.\", FutureWarning)\n"
     ]
    },
    {
     "name": "stdout",
     "output_type": "stream",
     "text": [
      "4142\n",
      "379\n",
      "Accuracy on training set: 0.5410429744084984\n",
      "Accuracy on testing set (df_stanford_fifa_features_leagues_21518_seasons_14_15.csv): 0.5382585751978892\n"
     ]
    },
    {
     "name": "stderr",
     "output_type": "stream",
     "text": [
      "/usr/local/lib/python3.7/site-packages/sklearn/preprocessing/data.py:323: DataConversionWarning: Data with input dtype int64, float64 were all converted to float64 by MinMaxScaler.\n",
      "  return self.partial_fit(X, y)\n",
      "/usr/local/lib/python3.7/site-packages/sklearn/svm/base.py:196: FutureWarning: The default value of gamma will change from 'auto' to 'scale' in version 0.22 to account better for unscaled features. Set gamma explicitly to 'auto' or 'scale' to avoid this warning.\n",
      "  \"avoid this warning.\", FutureWarning)\n"
     ]
    },
    {
     "name": "stdout",
     "output_type": "stream",
     "text": [
      "4141\n",
      "380\n",
      "Accuracy on training set: 0.5411736295580778\n",
      "Accuracy on testing set (df_stanford_fifa_features_leagues_21518_seasons_12_13.csv): 0.5552631578947368\n"
     ]
    },
    {
     "name": "stderr",
     "output_type": "stream",
     "text": [
      "/usr/local/lib/python3.7/site-packages/sklearn/preprocessing/data.py:323: DataConversionWarning: Data with input dtype int64, float64 were all converted to float64 by MinMaxScaler.\n",
      "  return self.partial_fit(X, y)\n",
      "/usr/local/lib/python3.7/site-packages/sklearn/svm/base.py:196: FutureWarning: The default value of gamma will change from 'auto' to 'scale' in version 0.22 to account better for unscaled features. Set gamma explicitly to 'auto' or 'scale' to avoid this warning.\n",
      "  \"avoid this warning.\", FutureWarning)\n"
     ]
    },
    {
     "name": "stdout",
     "output_type": "stream",
     "text": [
      "4141\n",
      "380\n",
      "Accuracy on training set: 0.5414151171214683\n",
      "Accuracy on testing set (df_stanford_fifa_features_leagues_21518_seasons_11_12.csv): 0.5447368421052632\n"
     ]
    },
    {
     "name": "stderr",
     "output_type": "stream",
     "text": [
      "/usr/local/lib/python3.7/site-packages/sklearn/preprocessing/data.py:323: DataConversionWarning: Data with input dtype int64, float64 were all converted to float64 by MinMaxScaler.\n",
      "  return self.partial_fit(X, y)\n",
      "/usr/local/lib/python3.7/site-packages/sklearn/svm/base.py:196: FutureWarning: The default value of gamma will change from 'auto' to 'scale' in version 0.22 to account better for unscaled features. Set gamma explicitly to 'auto' or 'scale' to avoid this warning.\n",
      "  \"avoid this warning.\", FutureWarning)\n"
     ]
    },
    {
     "name": "stdout",
     "output_type": "stream",
     "text": [
      "4141\n",
      "380\n",
      "Accuracy on training set: 0.5361023907268776\n",
      "Accuracy on testing set (df_stanford_fifa_features_leagues_21518_seasons_10_11.csv): 0.6105263157894737\n"
     ]
    },
    {
     "name": "stderr",
     "output_type": "stream",
     "text": [
      "/usr/local/lib/python3.7/site-packages/sklearn/preprocessing/data.py:323: DataConversionWarning: Data with input dtype int64, float64 were all converted to float64 by MinMaxScaler.\n",
      "  return self.partial_fit(X, y)\n",
      "/usr/local/lib/python3.7/site-packages/sklearn/svm/base.py:196: FutureWarning: The default value of gamma will change from 'auto' to 'scale' in version 0.22 to account better for unscaled features. Set gamma explicitly to 'auto' or 'scale' to avoid this warning.\n",
      "  \"avoid this warning.\", FutureWarning)\n"
     ]
    },
    {
     "name": "stdout",
     "output_type": "stream",
     "text": [
      "4141\n",
      "380\n",
      "Accuracy on training set: 0.5397247041777349\n",
      "Accuracy on testing set (df_stanford_fifa_features_leagues_21518_seasons_09_10.csv): 0.5736842105263158\n"
     ]
    },
    {
     "name": "stderr",
     "output_type": "stream",
     "text": [
      "/usr/local/lib/python3.7/site-packages/sklearn/preprocessing/data.py:323: DataConversionWarning: Data with input dtype int64, float64 were all converted to float64 by MinMaxScaler.\n",
      "  return self.partial_fit(X, y)\n",
      "/usr/local/lib/python3.7/site-packages/sklearn/svm/base.py:196: FutureWarning: The default value of gamma will change from 'auto' to 'scale' in version 0.22 to account better for unscaled features. Set gamma explicitly to 'auto' or 'scale' to avoid this warning.\n",
      "  \"avoid this warning.\", FutureWarning)\n"
     ]
    },
    {
     "name": "stdout",
     "output_type": "stream",
     "text": [
      "4151\n",
      "370\n",
      "Accuracy on training set: 0.5492652372922188\n",
      "Accuracy on testing set (df_stanford_fifa_features_leagues_1729_seasons_15_16.csv): 0.45135135135135135\n"
     ]
    },
    {
     "name": "stderr",
     "output_type": "stream",
     "text": [
      "/usr/local/lib/python3.7/site-packages/sklearn/preprocessing/data.py:323: DataConversionWarning: Data with input dtype int64, float64 were all converted to float64 by MinMaxScaler.\n",
      "  return self.partial_fit(X, y)\n",
      "/usr/local/lib/python3.7/site-packages/sklearn/svm/base.py:196: FutureWarning: The default value of gamma will change from 'auto' to 'scale' in version 0.22 to account better for unscaled features. Set gamma explicitly to 'auto' or 'scale' to avoid this warning.\n",
      "  \"avoid this warning.\", FutureWarning)\n"
     ]
    },
    {
     "name": "stdout",
     "output_type": "stream",
     "text": [
      "4169\n",
      "352\n",
      "Accuracy on training set: 0.5420964260014391\n",
      "Accuracy on testing set (df_stanford_fifa_features_leagues_1729_seasons_14_15.csv): 0.53125\n"
     ]
    },
    {
     "name": "stderr",
     "output_type": "stream",
     "text": [
      "/usr/local/lib/python3.7/site-packages/sklearn/preprocessing/data.py:323: DataConversionWarning: Data with input dtype int64, float64 were all converted to float64 by MinMaxScaler.\n",
      "  return self.partial_fit(X, y)\n",
      "/usr/local/lib/python3.7/site-packages/sklearn/svm/base.py:196: FutureWarning: The default value of gamma will change from 'auto' to 'scale' in version 0.22 to account better for unscaled features. Set gamma explicitly to 'auto' or 'scale' to avoid this warning.\n",
      "  \"avoid this warning.\", FutureWarning)\n"
     ]
    },
    {
     "name": "stdout",
     "output_type": "stream",
     "text": [
      "4141\n",
      "380\n",
      "Accuracy on training set: 0.5421395798116397\n",
      "Accuracy on testing set (df_stanford_fifa_features_leagues_1729_seasons_12_13.csv): 0.5236842105263158\n"
     ]
    },
    {
     "name": "stderr",
     "output_type": "stream",
     "text": [
      "/usr/local/lib/python3.7/site-packages/sklearn/preprocessing/data.py:323: DataConversionWarning: Data with input dtype int64, float64 were all converted to float64 by MinMaxScaler.\n",
      "  return self.partial_fit(X, y)\n",
      "/usr/local/lib/python3.7/site-packages/sklearn/svm/base.py:196: FutureWarning: The default value of gamma will change from 'auto' to 'scale' in version 0.22 to account better for unscaled features. Set gamma explicitly to 'auto' or 'scale' to avoid this warning.\n",
      "  \"avoid this warning.\", FutureWarning)\n"
     ]
    },
    {
     "name": "stdout",
     "output_type": "stream",
     "text": [
      "4141\n",
      "380\n",
      "Accuracy on training set: 0.5423810673750302\n",
      "Accuracy on testing set (df_stanford_fifa_features_leagues_1729_seasons_11_12.csv): 0.5105263157894737\n"
     ]
    },
    {
     "name": "stderr",
     "output_type": "stream",
     "text": [
      "/usr/local/lib/python3.7/site-packages/sklearn/preprocessing/data.py:323: DataConversionWarning: Data with input dtype int64, float64 were all converted to float64 by MinMaxScaler.\n",
      "  return self.partial_fit(X, y)\n",
      "/usr/local/lib/python3.7/site-packages/sklearn/svm/base.py:196: FutureWarning: The default value of gamma will change from 'auto' to 'scale' in version 0.22 to account better for unscaled features. Set gamma explicitly to 'auto' or 'scale' to avoid this warning.\n",
      "  \"avoid this warning.\", FutureWarning)\n"
     ]
    },
    {
     "name": "stdout",
     "output_type": "stream",
     "text": [
      "4141\n",
      "380\n",
      "Accuracy on training set: 0.5450374305723256\n",
      "Accuracy on testing set (df_stanford_fifa_features_leagues_1729_seasons_10_11.csv): 0.49736842105263157\n"
     ]
    },
    {
     "name": "stderr",
     "output_type": "stream",
     "text": [
      "/usr/local/lib/python3.7/site-packages/sklearn/preprocessing/data.py:323: DataConversionWarning: Data with input dtype int64, float64 were all converted to float64 by MinMaxScaler.\n",
      "  return self.partial_fit(X, y)\n",
      "/usr/local/lib/python3.7/site-packages/sklearn/svm/base.py:196: FutureWarning: The default value of gamma will change from 'auto' to 'scale' in version 0.22 to account better for unscaled features. Set gamma explicitly to 'auto' or 'scale' to avoid this warning.\n",
      "  \"avoid this warning.\", FutureWarning)\n"
     ]
    },
    {
     "name": "stdout",
     "output_type": "stream",
     "text": [
      "4141\n",
      "380\n",
      "Accuracy on training set: 0.536826853417049\n",
      "Accuracy on testing set (df_stanford_fifa_features_leagues_1729_seasons_09_10.csv): 0.5789473684210527\n",
      ".......................\n",
      "Avg Accuracy on training set: 0.541491338741138\n",
      "Avg Accuracy on testing set: 0.5381418359843665\n"
     ]
    }
   ],
   "source": [
    "cross_val_evaluation(SVC(),dataset,leagues_id, seasons, location_to_file = 'data/')"
   ]
  },
  {
   "cell_type": "code",
   "execution_count": 6,
   "metadata": {},
   "outputs": [
    {
     "data": {
      "text/plain": [
       "[21518, 1729]"
      ]
     },
     "execution_count": 6,
     "metadata": {},
     "output_type": "execute_result"
    }
   ],
   "source": [
    "leagues_id"
   ]
  },
  {
   "cell_type": "code",
   "execution_count": 7,
   "metadata": {},
   "outputs": [
    {
     "data": {
      "text/plain": [
       "['2015/2016', '2014/2015', '2012/2013', '2011/2012', '2010/2011', '2009/2010']"
      ]
     },
     "execution_count": 7,
     "metadata": {},
     "output_type": "execute_result"
    }
   ],
   "source": [
    "seasons"
   ]
  },
  {
   "cell_type": "code",
   "execution_count": null,
   "metadata": {},
   "outputs": [],
   "source": []
  },
  {
   "cell_type": "code",
   "execution_count": null,
   "metadata": {},
   "outputs": [],
   "source": []
  },
  {
   "cell_type": "code",
   "execution_count": null,
   "metadata": {},
   "outputs": [],
   "source": []
  }
 ],
 "metadata": {
  "kernelspec": {
   "display_name": "Python 3",
   "language": "python",
   "name": "python3"
  },
  "language_info": {
   "codemirror_mode": {
    "name": "ipython",
    "version": 3
   },
   "file_extension": ".py",
   "mimetype": "text/x-python",
   "name": "python",
   "nbconvert_exporter": "python",
   "pygments_lexer": "ipython3",
   "version": "3.7.0"
  }
 },
 "nbformat": 4,
 "nbformat_minor": 2
}
