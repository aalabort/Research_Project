{
 "cells": [
  {
   "cell_type": "code",
   "execution_count": 2,
   "metadata": {},
   "outputs": [],
   "source": [
    "import pandas as pd\n",
    "import numpy as np\n",
    "\n",
    "from sklearn.preprocessing import MinMaxScaler\n",
    "from sklearn.preprocessing import StandardScaler\n",
    "\n",
    "import matplotlib.pyplot as plt\n",
    "%matplotlib inline\n",
    "\n",
    "\n",
    "import seaborn as sns\n",
    "from sklearn.model_selection import train_test_split\n",
    "\n",
    "\n",
    "from sklearn.linear_model import LogisticRegression\n",
    "from sklearn.svm import SVC\n",
    "from sklearn.ensemble import RandomForestClassifier\n",
    "\n",
    "from sklearn.metrics import f1_score\n",
    "from sklearn.metrics import roc_curve, auc\n",
    "from sklearn.multiclass import OneVsRestClassifier\n",
    "from sklearn.preprocessing import label_binarize\n",
    "\n",
    "\n",
    "import itertools\n",
    "from sklearn.metrics import confusion_matrix"
   ]
  },
  {
   "cell_type": "markdown",
   "metadata": {},
   "source": [
    "# Datasets"
   ]
  },
  {
   "cell_type": "code",
   "execution_count": 3,
   "metadata": {},
   "outputs": [
    {
     "name": "stdout",
     "output_type": "stream",
     "text": [
      "data/df_merge_clustersdata_df_df_te.csv\n"
     ]
    }
   ],
   "source": [
    "#dataset = 'data/df_stanford_real_features_leagues_[21518, 1729]_seasons_[\\'15_16\\', \\'14_15\\', \\'13_14\\', \\'12_13\\', \\'11_12\\', \\'10_11\\', \\'09_10\\'].csv'\n",
    "dataset = 'data/df_stanford_fifa_features_leagues_[21518, 1729]_seasons_[\\'15_16\\', \\'14_15\\', \\'13_14\\', \\'12_13\\', \\'11_12\\', \\'10_11\\', \\'09_10\\'].csv'\n",
    "#dataset = 'data/df_match_with_clusters.csv'\n",
    "#dataset = 'data/df_merge_dataset_stanford_fifa_leagues_[21518, 1729]_seasons_[\\'15_16\\', \\'14_15\\', \\'13_14\\', \\'12_13\\', \\'11_12\\', \\'10_11\\', \\'09_10\\'].csv'\n",
    "dataset = 'data/df_stanford_real_features_leagues_[1729]_seasons_[\\'15_16\\', \\'14_15\\', \\'13_14\\', \\'12_13\\', \\'11_12\\', \\'10_11\\', \\'09_10\\'].csv'\n",
    "dataset = 'data/df_testing_clustering_app5_[1729]_seasons_[\\'15_16\\'].csv'\n",
    "#dataset = 'data/df_stanford_fifa_features_leagues_[21518, 1729]_seasons_[\\'15_16\\', \\'14_15\\', \\'13_14\\', \\'12_13\\', \\'11_12\\', \\'10_11\\', \\'09_10\\'].csv'\n",
    "# dataset = 'data/df_FTHG_FTAG_[21518]_seasons_[\\'15_16\\'].csv'\n",
    "#dataset = 'data/df_FTHG_FTAG_[21518]_seasons_[\\'15_16\\', \\'14_15\\', \\'12_13\\', \\'11_12\\', \\'10_11\\', \\'09_10\\'].csv'\n",
    "#dataset = 'data/df_FTHG_FTAG_[21518, 1729]_seasons_[\\'15_16\\', \\'14_15\\', \\'12_13\\', \\'11_12\\', \\'10_11\\', \\'09_10\\'].csv'\n",
    "# dataset = 'data/df_merge_df_stanfor_seasons_df_stanfor.csv'\n",
    "#dataset = 'data/df_merge_df_total_features_df_te.csv'\n",
    "\n",
    "dataset = 'data/df_merge_clustersdata_df_df_te.csv'\n",
    "\n",
    "print(dataset)\n",
    "random_seed =1\n",
    "\n"
   ]
  },
  {
   "cell_type": "markdown",
   "metadata": {},
   "source": [
    "## Reading datasets"
   ]
  },
  {
   "cell_type": "code",
   "execution_count": 4,
   "metadata": {},
   "outputs": [
    {
     "data": {
      "text/html": [
       "<div>\n",
       "<style scoped>\n",
       "    .dataframe tbody tr th:only-of-type {\n",
       "        vertical-align: middle;\n",
       "    }\n",
       "\n",
       "    .dataframe tbody tr th {\n",
       "        vertical-align: top;\n",
       "    }\n",
       "\n",
       "    .dataframe thead th {\n",
       "        text-align: right;\n",
       "    }\n",
       "</style>\n",
       "<table border=\"1\" class=\"dataframe\">\n",
       "  <thead>\n",
       "    <tr style=\"text-align: right;\">\n",
       "      <th></th>\n",
       "      <th>uid</th>\n",
       "      <th>cluster_team_away_x</th>\n",
       "      <th>cluster_team_home_x</th>\n",
       "      <th>cluster_team_away_y</th>\n",
       "      <th>cluster_team_home_y</th>\n",
       "      <th>home_team_name_id</th>\n",
       "      <th>away_team_name_id</th>\n",
       "      <th>cluster_team_away</th>\n",
       "      <th>cluster_team_home</th>\n",
       "      <th>labels</th>\n",
       "      <th>date</th>\n",
       "    </tr>\n",
       "  </thead>\n",
       "  <tbody>\n",
       "    <tr>\n",
       "      <th>0</th>\n",
       "      <td>bournemouthvilla</td>\n",
       "      <td>2</td>\n",
       "      <td>2</td>\n",
       "      <td>3</td>\n",
       "      <td>2</td>\n",
       "      <td>bournemouth</td>\n",
       "      <td>villa</td>\n",
       "      <td>1</td>\n",
       "      <td>3</td>\n",
       "      <td>A</td>\n",
       "      <td>2015-08-08</td>\n",
       "    </tr>\n",
       "    <tr>\n",
       "      <th>1</th>\n",
       "      <td>chelseaswansea</td>\n",
       "      <td>1</td>\n",
       "      <td>0</td>\n",
       "      <td>1</td>\n",
       "      <td>4</td>\n",
       "      <td>chelsea</td>\n",
       "      <td>swansea</td>\n",
       "      <td>4</td>\n",
       "      <td>1</td>\n",
       "      <td>D</td>\n",
       "      <td>2015-08-08</td>\n",
       "    </tr>\n",
       "    <tr>\n",
       "      <th>2</th>\n",
       "      <td>evertonwatford</td>\n",
       "      <td>1</td>\n",
       "      <td>0</td>\n",
       "      <td>1</td>\n",
       "      <td>0</td>\n",
       "      <td>everton</td>\n",
       "      <td>watford</td>\n",
       "      <td>2</td>\n",
       "      <td>0</td>\n",
       "      <td>D</td>\n",
       "      <td>2015-08-08</td>\n",
       "    </tr>\n",
       "    <tr>\n",
       "      <th>3</th>\n",
       "      <td>leicestersunderland</td>\n",
       "      <td>2</td>\n",
       "      <td>1</td>\n",
       "      <td>3</td>\n",
       "      <td>1</td>\n",
       "      <td>leicester</td>\n",
       "      <td>sunderland</td>\n",
       "      <td>1</td>\n",
       "      <td>8</td>\n",
       "      <td>H</td>\n",
       "      <td>2015-08-08</td>\n",
       "    </tr>\n",
       "    <tr>\n",
       "      <th>4</th>\n",
       "      <td>unitedtottenham</td>\n",
       "      <td>0</td>\n",
       "      <td>1</td>\n",
       "      <td>1</td>\n",
       "      <td>1</td>\n",
       "      <td>united</td>\n",
       "      <td>tottenham</td>\n",
       "      <td>8</td>\n",
       "      <td>5</td>\n",
       "      <td>H</td>\n",
       "      <td>2015-08-08</td>\n",
       "    </tr>\n",
       "  </tbody>\n",
       "</table>\n",
       "</div>"
      ],
      "text/plain": [
       "                   uid  cluster_team_away_x  cluster_team_home_x  \\\n",
       "0     bournemouthvilla                    2                    2   \n",
       "1       chelseaswansea                    1                    0   \n",
       "2       evertonwatford                    1                    0   \n",
       "3  leicestersunderland                    2                    1   \n",
       "4      unitedtottenham                    0                    1   \n",
       "\n",
       "   cluster_team_away_y  cluster_team_home_y home_team_name_id  \\\n",
       "0                    3                    2       bournemouth   \n",
       "1                    1                    4           chelsea   \n",
       "2                    1                    0           everton   \n",
       "3                    3                    1         leicester   \n",
       "4                    1                    1            united   \n",
       "\n",
       "  away_team_name_id  cluster_team_away  cluster_team_home labels        date  \n",
       "0             villa                  1                  3      A  2015-08-08  \n",
       "1           swansea                  4                  1      D  2015-08-08  \n",
       "2           watford                  2                  0      D  2015-08-08  \n",
       "3        sunderland                  1                  8      H  2015-08-08  \n",
       "4         tottenham                  8                  5      H  2015-08-08  "
      ]
     },
     "execution_count": 4,
     "metadata": {},
     "output_type": "execute_result"
    }
   ],
   "source": [
    "df = pd.read_csv(dataset)\n",
    "df.head()"
   ]
  },
  {
   "cell_type": "code",
   "execution_count": 5,
   "metadata": {},
   "outputs": [
    {
     "data": {
      "text/plain": [
       "Index(['uid', 'cluster_team_away_x', 'cluster_team_home_x',\n",
       "       'cluster_team_away_y', 'cluster_team_home_y', 'home_team_name_id',\n",
       "       'away_team_name_id', 'cluster_team_away', 'cluster_team_home', 'labels',\n",
       "       'date'],\n",
       "      dtype='object')"
      ]
     },
     "execution_count": 5,
     "metadata": {},
     "output_type": "execute_result"
    }
   ],
   "source": [
    "df.columns"
   ]
  },
  {
   "cell_type": "code",
   "execution_count": 6,
   "metadata": {},
   "outputs": [],
   "source": [
    "if dataset.startswith('data/df_stanford_real_'):\n",
    "    df = df.drop(columns=['home_team_name_id','away_team_name_id'])\n",
    "#df = df.drop(columns=['home_team_name_id','away_team_name_id','uid'])    "
   ]
  },
  {
   "cell_type": "markdown",
   "metadata": {},
   "source": [
    "## Split labels from features"
   ]
  },
  {
   "cell_type": "code",
   "execution_count": 7,
   "metadata": {},
   "outputs": [],
   "source": [
    "labels = df['labels']\n",
    "features = df.drop(columns = ['labels'])"
   ]
  },
  {
   "cell_type": "markdown",
   "metadata": {},
   "source": [
    "# Balance of classes"
   ]
  },
  {
   "cell_type": "code",
   "execution_count": 8,
   "metadata": {
    "scrolled": true
   },
   "outputs": [
    {
     "data": {
      "image/png": "[encoded data removed]",
      "text/plain": [
       "<Figure size 432x288 with 1 Axes>"
      ]
     },
     "metadata": {
      "needs_background": "light"
     },
     "output_type": "display_data"
    }
   ],
   "source": [
    "sns.countplot(labels,label=\"Count\")\n",
    "\n",
    "plt.show()"
   ]
  },
  {
   "cell_type": "markdown",
   "metadata": {},
   "source": [
    "## Remove Rows With Missing Values"
   ]
  },
  {
   "cell_type": "code",
   "execution_count": 65,
   "metadata": {},
   "outputs": [],
   "source": [
    "labels = labels[np.invert(features.isnull().any(axis=1))]\n",
    "features.dropna(inplace=True)\n"
   ]
  },
  {
   "cell_type": "markdown",
   "metadata": {},
   "source": [
    "# Functions to convert types"
   ]
  },
  {
   "cell_type": "code",
   "execution_count": 66,
   "metadata": {},
   "outputs": [],
   "source": [
    "def convert_to(df,type_to_convert, all_categorical = False,columns = 'None'):\n",
    " \n",
    "    if all_categorical == True:\n",
    "        categoric_types = df.select_dtypes(include=['object','category']).columns\n",
    "        if categoric_types.empty:\n",
    "            print('No object types in the dataframe to be converted')\n",
    "            return df\n",
    "        else:\n",
    "            if 'labels' in categoric_types:\n",
    "                categoric_types.remove('labels')\n",
    "            df[categoric_types] = df[categoric_types].astype('category')\n",
    "            columns = categoric_types\n",
    "        \n",
    "    else:\n",
    "        df[columns] = df[columns].astype('category')\n",
    "        \n",
    "        \n",
    "    if type_to_convert == 'labelling':\n",
    "        for column in columns:\n",
    "            df[column] = df[column].cat.codes\n",
    "    elif type_to_convert == 'onehot':\n",
    "        for column in columns:\n",
    "            print(columns)\n",
    "            df= pd.get_dummies(df, columns=[column])             \n",
    "      \n",
    "    return df"
   ]
  },
  {
   "cell_type": "code",
   "execution_count": 67,
   "metadata": {},
   "outputs": [
    {
     "name": "stdout",
     "output_type": "stream",
     "text": [
      "Index(['uid', 'home_team_name_id', 'away_team_name_id'], dtype='object')\n",
      "Index(['uid', 'home_team_name_id', 'away_team_name_id'], dtype='object')\n",
      "Index(['uid', 'home_team_name_id', 'away_team_name_id'], dtype='object')\n",
      "<class 'pandas.core.frame.DataFrame'>\n",
      "Int64Index: 380 entries, 0 to 379\n",
      "Columns: 426 entries, cluster_team_away_x to away_team_name_id_west\n",
      "dtypes: int64(6), uint8(420)\n",
      "memory usage: 176.6 KB\n"
     ]
    }
   ],
   "source": [
    "\n",
    "features = features.drop(columns= 'date')\n",
    "\n",
    "\n",
    "\n",
    "features = convert_to(features,'onehot', all_categorical = True,columns ='None')\n",
    "\n",
    "\n",
    "if 'cluster_home' in features.columns:\n",
    "    features = convert_to(features,'onehot', all_categorical = False,columns =['cluster_home','cluster_away'])\n",
    "\n",
    "\n",
    "\n",
    "#Change types\n",
    "\n",
    "\n",
    "# features['FTAG'] = features['FTAG'].astype(int)  #uncomment when fifa players data has stage\n",
    "# features['FTHG'] = features['FTHG'].astype(int)\n",
    "\n",
    "features.info()"
   ]
  },
  {
   "cell_type": "markdown",
   "metadata": {},
   "source": [
    "# Create Training and Test Sets and Apply Scaling"
   ]
  },
  {
   "cell_type": "code",
   "execution_count": 68,
   "metadata": {},
   "outputs": [],
   "source": [
    "X = features\n",
    "y = labels\n",
    "\n",
    "X_train, X_test, y_train, y_test = train_test_split(X, y,random_state=random_seed)"
   ]
  },
  {
   "cell_type": "code",
   "execution_count": 69,
   "metadata": {},
   "outputs": [
    {
     "name": "stdout",
     "output_type": "stream",
     "text": [
      "<class 'pandas.core.frame.DataFrame'>\n",
      "Int64Index: 285 entries, 273 to 37\n",
      "Columns: 426 entries, cluster_team_away_x to away_team_name_id_west\n",
      "dtypes: int64(6), uint8(420)\n",
      "memory usage: 132.5 KB\n"
     ]
    }
   ],
   "source": [
    "\n",
    "\n",
    "X_test.shape\n",
    "\n",
    "\n",
    "X_train.info()"
   ]
  },
  {
   "cell_type": "code",
   "execution_count": 70,
   "metadata": {},
   "outputs": [
    {
     "name": "stderr",
     "output_type": "stream",
     "text": [
      "/usr/local/lib/python3.7/site-packages/sklearn/preprocessing/data.py:617: DataConversionWarning: Data with input dtype int64 were all converted to float64 by StandardScaler.\n",
      "  return self.partial_fit(X, y)\n",
      "/usr/local/lib/python3.7/site-packages/sklearn/base.py:462: DataConversionWarning: Data with input dtype int64 were all converted to float64 by StandardScaler.\n",
      "  return self.fit(X, **fit_params).transform(X)\n",
      "/usr/local/lib/python3.7/site-packages/ipykernel_launcher.py:7: SettingWithCopyWarning: \n",
      "A value is trying to be set on a copy of a slice from a DataFrame.\n",
      "Try using .loc[row_indexer,col_indexer] = value instead\n",
      "\n",
      "See the caveats in the documentation: http://pandas.pydata.org/pandas-docs/stable/indexing.html#indexing-view-versus-copy\n",
      "  import sys\n",
      "/usr/local/lib/python3.7/site-packages/pandas/core/indexing.py:543: SettingWithCopyWarning: \n",
      "A value is trying to be set on a copy of a slice from a DataFrame.\n",
      "Try using .loc[row_indexer,col_indexer] = value instead\n",
      "\n",
      "See the caveats in the documentation: http://pandas.pydata.org/pandas-docs/stable/indexing.html#indexing-view-versus-copy\n",
      "  self.obj[item] = s\n",
      "/usr/local/lib/python3.7/site-packages/ipykernel_launcher.py:8: DataConversionWarning: Data with input dtype int64 were all converted to float64 by StandardScaler.\n",
      "  \n",
      "/usr/local/lib/python3.7/site-packages/ipykernel_launcher.py:8: SettingWithCopyWarning: \n",
      "A value is trying to be set on a copy of a slice from a DataFrame.\n",
      "Try using .loc[row_indexer,col_indexer] = value instead\n",
      "\n",
      "See the caveats in the documentation: http://pandas.pydata.org/pandas-docs/stable/indexing.html#indexing-view-versus-copy\n",
      "  \n",
      "/usr/local/lib/python3.7/site-packages/pandas/core/indexing.py:543: SettingWithCopyWarning: \n",
      "A value is trying to be set on a copy of a slice from a DataFrame.\n",
      "Try using .loc[row_indexer,col_indexer] = value instead\n",
      "\n",
      "See the caveats in the documentation: http://pandas.pydata.org/pandas-docs/stable/indexing.html#indexing-view-versus-copy\n",
      "  self.obj[item] = s\n"
     ]
    },
    {
     "data": {
      "text/html": [
       "<div>\n",
       "<style scoped>\n",
       "    .dataframe tbody tr th:only-of-type {\n",
       "        vertical-align: middle;\n",
       "    }\n",
       "\n",
       "    .dataframe tbody tr th {\n",
       "        vertical-align: top;\n",
       "    }\n",
       "\n",
       "    .dataframe thead th {\n",
       "        text-align: right;\n",
       "    }\n",
       "</style>\n",
       "<table border=\"1\" class=\"dataframe\">\n",
       "  <thead>\n",
       "    <tr style=\"text-align: right;\">\n",
       "      <th></th>\n",
       "      <th>cluster_team_away_x</th>\n",
       "      <th>cluster_team_home_x</th>\n",
       "      <th>cluster_team_away_y</th>\n",
       "      <th>cluster_team_home_y</th>\n",
       "      <th>cluster_team_away</th>\n",
       "      <th>cluster_team_home</th>\n",
       "      <th>uid_arsenalbournemouth</th>\n",
       "      <th>uid_arsenalbrom</th>\n",
       "      <th>uid_arsenalchelsea</th>\n",
       "      <th>uid_arsenalcity</th>\n",
       "      <th>...</th>\n",
       "      <th>away_team_name_id_norwich</th>\n",
       "      <th>away_team_name_id_southampton</th>\n",
       "      <th>away_team_name_id_stoke</th>\n",
       "      <th>away_team_name_id_sunderland</th>\n",
       "      <th>away_team_name_id_swansea</th>\n",
       "      <th>away_team_name_id_tottenham</th>\n",
       "      <th>away_team_name_id_united</th>\n",
       "      <th>away_team_name_id_villa</th>\n",
       "      <th>away_team_name_id_watford</th>\n",
       "      <th>away_team_name_id_west</th>\n",
       "    </tr>\n",
       "  </thead>\n",
       "  <tbody>\n",
       "    <tr>\n",
       "      <th>244</th>\n",
       "      <td>1.461876</td>\n",
       "      <td>0.213702</td>\n",
       "      <td>0.774980</td>\n",
       "      <td>-1.064589</td>\n",
       "      <td>-0.992049</td>\n",
       "      <td>-0.816842</td>\n",
       "      <td>0</td>\n",
       "      <td>0</td>\n",
       "      <td>0</td>\n",
       "      <td>0</td>\n",
       "      <td>...</td>\n",
       "      <td>0</td>\n",
       "      <td>0</td>\n",
       "      <td>0</td>\n",
       "      <td>1</td>\n",
       "      <td>0</td>\n",
       "      <td>0</td>\n",
       "      <td>0</td>\n",
       "      <td>0</td>\n",
       "      <td>0</td>\n",
       "      <td>0</td>\n",
       "    </tr>\n",
       "    <tr>\n",
       "      <th>180</th>\n",
       "      <td>1.461876</td>\n",
       "      <td>1.537723</td>\n",
       "      <td>0.774980</td>\n",
       "      <td>-1.064589</td>\n",
       "      <td>-0.992049</td>\n",
       "      <td>-0.442565</td>\n",
       "      <td>0</td>\n",
       "      <td>0</td>\n",
       "      <td>0</td>\n",
       "      <td>0</td>\n",
       "      <td>...</td>\n",
       "      <td>0</td>\n",
       "      <td>0</td>\n",
       "      <td>0</td>\n",
       "      <td>0</td>\n",
       "      <td>0</td>\n",
       "      <td>0</td>\n",
       "      <td>0</td>\n",
       "      <td>0</td>\n",
       "      <td>0</td>\n",
       "      <td>0</td>\n",
       "    </tr>\n",
       "    <tr>\n",
       "      <th>277</th>\n",
       "      <td>-1.279142</td>\n",
       "      <td>-1.110320</td>\n",
       "      <td>-0.753527</td>\n",
       "      <td>1.112979</td>\n",
       "      <td>1.571600</td>\n",
       "      <td>1.803092</td>\n",
       "      <td>0</td>\n",
       "      <td>0</td>\n",
       "      <td>0</td>\n",
       "      <td>0</td>\n",
       "      <td>...</td>\n",
       "      <td>0</td>\n",
       "      <td>0</td>\n",
       "      <td>0</td>\n",
       "      <td>0</td>\n",
       "      <td>0</td>\n",
       "      <td>1</td>\n",
       "      <td>0</td>\n",
       "      <td>0</td>\n",
       "      <td>0</td>\n",
       "      <td>0</td>\n",
       "    </tr>\n",
       "    <tr>\n",
       "      <th>185</th>\n",
       "      <td>0.091367</td>\n",
       "      <td>-1.110320</td>\n",
       "      <td>1.539234</td>\n",
       "      <td>-1.064589</td>\n",
       "      <td>0.472894</td>\n",
       "      <td>-1.565394</td>\n",
       "      <td>0</td>\n",
       "      <td>0</td>\n",
       "      <td>0</td>\n",
       "      <td>0</td>\n",
       "      <td>...</td>\n",
       "      <td>0</td>\n",
       "      <td>0</td>\n",
       "      <td>1</td>\n",
       "      <td>0</td>\n",
       "      <td>0</td>\n",
       "      <td>0</td>\n",
       "      <td>0</td>\n",
       "      <td>0</td>\n",
       "      <td>0</td>\n",
       "      <td>0</td>\n",
       "    </tr>\n",
       "    <tr>\n",
       "      <th>233</th>\n",
       "      <td>-1.279142</td>\n",
       "      <td>-1.110320</td>\n",
       "      <td>-0.753527</td>\n",
       "      <td>-1.064589</td>\n",
       "      <td>1.571600</td>\n",
       "      <td>0.680264</td>\n",
       "      <td>0</td>\n",
       "      <td>0</td>\n",
       "      <td>0</td>\n",
       "      <td>0</td>\n",
       "      <td>...</td>\n",
       "      <td>0</td>\n",
       "      <td>0</td>\n",
       "      <td>0</td>\n",
       "      <td>0</td>\n",
       "      <td>0</td>\n",
       "      <td>1</td>\n",
       "      <td>0</td>\n",
       "      <td>0</td>\n",
       "      <td>0</td>\n",
       "      <td>0</td>\n",
       "    </tr>\n",
       "  </tbody>\n",
       "</table>\n",
       "<p>5 rows × 426 columns</p>\n",
       "</div>"
      ],
      "text/plain": [
       "     cluster_team_away_x  cluster_team_home_x  cluster_team_away_y  \\\n",
       "244             1.461876             0.213702             0.774980   \n",
       "180             1.461876             1.537723             0.774980   \n",
       "277            -1.279142            -1.110320            -0.753527   \n",
       "185             0.091367            -1.110320             1.539234   \n",
       "233            -1.279142            -1.110320            -0.753527   \n",
       "\n",
       "     cluster_team_home_y  cluster_team_away  cluster_team_home  \\\n",
       "244            -1.064589          -0.992049          -0.816842   \n",
       "180            -1.064589          -0.992049          -0.442565   \n",
       "277             1.112979           1.571600           1.803092   \n",
       "185            -1.064589           0.472894          -1.565394   \n",
       "233            -1.064589           1.571600           0.680264   \n",
       "\n",
       "     uid_arsenalbournemouth  uid_arsenalbrom  uid_arsenalchelsea  \\\n",
       "244                       0                0                   0   \n",
       "180                       0                0                   0   \n",
       "277                       0                0                   0   \n",
       "185                       0                0                   0   \n",
       "233                       0                0                   0   \n",
       "\n",
       "     uid_arsenalcity           ...            away_team_name_id_norwich  \\\n",
       "244                0           ...                                    0   \n",
       "180                0           ...                                    0   \n",
       "277                0           ...                                    0   \n",
       "185                0           ...                                    0   \n",
       "233                0           ...                                    0   \n",
       "\n",
       "     away_team_name_id_southampton  away_team_name_id_stoke  \\\n",
       "244                              0                        0   \n",
       "180                              0                        0   \n",
       "277                              0                        0   \n",
       "185                              0                        1   \n",
       "233                              0                        0   \n",
       "\n",
       "     away_team_name_id_sunderland  away_team_name_id_swansea  \\\n",
       "244                             1                          0   \n",
       "180                             0                          0   \n",
       "277                             0                          0   \n",
       "185                             0                          0   \n",
       "233                             0                          0   \n",
       "\n",
       "     away_team_name_id_tottenham  away_team_name_id_united  \\\n",
       "244                            0                         0   \n",
       "180                            0                         0   \n",
       "277                            1                         0   \n",
       "185                            0                         0   \n",
       "233                            1                         0   \n",
       "\n",
       "     away_team_name_id_villa  away_team_name_id_watford  \\\n",
       "244                        0                          0   \n",
       "180                        0                          0   \n",
       "277                        0                          0   \n",
       "185                        0                          0   \n",
       "233                        0                          0   \n",
       "\n",
       "     away_team_name_id_west  \n",
       "244                       0  \n",
       "180                       0  \n",
       "277                       0  \n",
       "185                       0  \n",
       "233                       0  \n",
       "\n",
       "[5 rows x 426 columns]"
      ]
     },
     "execution_count": 70,
     "metadata": {},
     "output_type": "execute_result"
    }
   ],
   "source": [
    "scaler = MinMaxScaler()\n",
    "scaler = StandardScaler()\n",
    "\n",
    "numeric_types = X_train.select_dtypes(include=['float64','int'])\n",
    "#print(numeric_types.columns)\n",
    "\n",
    "X_train[numeric_types.columns] = scaler.fit_transform(X_train[numeric_types.columns])\n",
    "X_test[numeric_types.columns]  = scaler.transform(X_test[numeric_types.columns] )\n",
    "\n",
    "\n",
    "\n",
    "\n",
    "\n",
    "\n",
    "X_test.head()"
   ]
  },
  {
   "cell_type": "markdown",
   "metadata": {},
   "source": [
    "# Functions for feature importance"
   ]
  },
  {
   "cell_type": "code",
   "execution_count": 71,
   "metadata": {},
   "outputs": [],
   "source": [
    "def dropcol_importances(clf, X_train, y_train):\n",
    "    from sklearn.base import clone\n",
    "    clf_ = clone(clf)\n",
    "    clf_.random_state = 999\n",
    "    clf_.fit(X_train, y_train)\n",
    "    baseline = clf.score(X_train, y_train)\n",
    "    imp = []\n",
    "    for col in X_train.columns:\n",
    "        X = X_train.drop(col, axis=1)\n",
    "        clf_ = clone(clf)\n",
    "        clf_.random_state = 999\n",
    "        clf_.fit(X, y_train)\n",
    "        #o = clf_.oob_score_\n",
    "        o = clf.score(X_train, y_train)\n",
    "        imp.append(baseline - o)\n",
    "    imp = np.array(imp)\n",
    "    I = pd.DataFrame(\n",
    "            data={'Feature':X_train.columns,\n",
    "                  'Importance':imp})\n",
    "    I = I.set_index('Feature')\n",
    "    I = I.sort_values('Importance', ascending=False)\n",
    "    return I\n",
    "\n",
    "\n",
    "def permutation_importances(clf, X_train, y_train):\n",
    "    baseline = clf.score(X_train, y_train)\n",
    "    imp = []\n",
    "    for col in X_train.columns:\n",
    "        save = X_train[col].copy()\n",
    "        X_train[col] = np.random.permutation(X_train[col])\n",
    "        m = clf.score(X_train, y_train)\n",
    "        X_train[col] = save\n",
    "        imp.append(baseline - m)\n",
    "    imp = np.array(imp)\n",
    "    I = pd.DataFrame(\n",
    "            data={'Feature':X_train.columns,\n",
    "                  'Importance':imp})\n",
    "    I = I.set_index('Feature')\n",
    "    I = I.sort_values('Importance', ascending=False)\n",
    "    return I"
   ]
  },
  {
   "cell_type": "code",
   "execution_count": 72,
   "metadata": {},
   "outputs": [],
   "source": [
    "def plot_confusion_matrix(cm, classes,\n",
    "                          normalize=False,\n",
    "                          title='Confusion matrix',\n",
    "                          cmap=plt.cm.Blues):\n",
    "    \"\"\"\n",
    "    This function prints and plots the confusion matrix.\n",
    "    Normalization can be applied by setting `normalize=True`.\n",
    "    \"\"\"\n",
    "    if normalize:\n",
    "        cm = cm.astype('float') / cm.sum(axis=1)[:, np.newaxis]\n",
    "        print(\"Normalized confusion matrix\")\n",
    "    else:\n",
    "        print('Confusion matrix, without normalization')\n",
    "\n",
    "    print(cm)\n",
    "\n",
    "    plt.imshow(cm, interpolation='nearest', cmap=cmap)\n",
    "    plt.title(title)\n",
    "    plt.colorbar()\n",
    "    tick_marks = np.arange(len(classes))\n",
    "    plt.xticks(tick_marks, classes, rotation=45)\n",
    "    plt.yticks(tick_marks, classes)\n",
    "\n",
    "    fmt = '.2f' if normalize else 'd'\n",
    "    thresh = cm.max() / 2.\n",
    "    for i, j in itertools.product(range(cm.shape[0]), range(cm.shape[1])):\n",
    "        plt.text(j, i, format(cm[i, j], fmt),\n",
    "                 horizontalalignment=\"center\",\n",
    "                 color=\"white\" if cm[i, j] > thresh else \"black\")\n",
    "\n",
    "    plt.ylabel('True label')\n",
    "    plt.xlabel('Predicted label')\n",
    "    plt.tight_layout()\n"
   ]
  },
  {
   "cell_type": "markdown",
   "metadata": {},
   "source": [
    "## Logistic regression"
   ]
  },
  {
   "cell_type": "code",
   "execution_count": 77,
   "metadata": {},
   "outputs": [
    {
     "name": "stdout",
     "output_type": "stream",
     "text": [
      "<class 'pandas.core.frame.DataFrame'>\n",
      "Int64Index: 285 entries, 273 to 37\n",
      "Columns: 426 entries, cluster_team_away_x to away_team_name_id_west\n",
      "dtypes: float64(6), uint8(420)\n",
      "memory usage: 132.5 KB\n",
      "Accuracy of Logistic regression classifier on training set: 0.84\n",
      "Accuracy of Logistic regression classifier on test set: 0.47\n",
      "F1 Score of Logistic regression classifier on test set: 0.45\n",
      "244 has been classified as  H and should be  D\n",
      "277 has been classified as  D and should be  H\n",
      "233 has been classified as  D and should be  A\n",
      "315 has been classified as  H and should be  D\n",
      "138 has been classified as  H and should be  D\n",
      "201 has been classified as  D and should be  A\n",
      "301 has been classified as  A and should be  H\n",
      "65 has been classified as  A and should be  H\n",
      "119 has been classified as  H and should be  A\n",
      "89 has been classified as  H and should be  A\n",
      "5 has been classified as  H and should be  A\n",
      "139 has been classified as  H and should be  D\n",
      "354 has been classified as  A and should be  H\n",
      "161 has been classified as  H and should be  A\n",
      "6 has been classified as  D and should be  A\n",
      "223 has been classified as  A and should be  D\n",
      "106 has been classified as  H and should be  D\n",
      "4 has been classified as  D and should be  H\n",
      "268 has been classified as  H and should be  D\n",
      "127 has been classified as  A and should be  D\n",
      "371 has been classified as  H and should be  D\n",
      "228 has been classified as  H and should be  A\n",
      "339 has been classified as  D and should be  A\n",
      "376 has been classified as  A and should be  D\n",
      "172 has been classified as  A and should be  D\n",
      "250 has been classified as  H and should be  A\n",
      "346 has been classified as  D and should be  A\n",
      "67 has been classified as  H and should be  D\n",
      "11 has been classified as  H and should be  A\n",
      "327 has been classified as  H and should be  A\n",
      "204 has been classified as  H and should be  D\n",
      "163 has been classified as  D and should be  H\n",
      "305 has been classified as  D and should be  A\n",
      "230 has been classified as  H and should be  D\n",
      "23 has been classified as  H and should be  D\n",
      "323 has been classified as  A and should be  D\n",
      "324 has been classified as  A and should be  D\n",
      "165 has been classified as  H and should be  A\n",
      "192 has been classified as  A and should be  H\n",
      "191 has been classified as  A and should be  H\n",
      "347 has been classified as  H and should be  D\n",
      "284 has been classified as  H and should be  D\n",
      "95 has been classified as  D and should be  H\n",
      "349 has been classified as  A and should be  H\n",
      "27 has been classified as  A and should be  D\n",
      "73 has been classified as  D and should be  A\n",
      "98 has been classified as  D and should be  A\n",
      "93 has been classified as  D and should be  A\n",
      "271 has been classified as  D and should be  A\n",
      "310 has been classified as  H and should be  D\n",
      "     cluster_team_away_x  cluster_team_home_x  cluster_team_away_y  \\\n",
      "244             1.461876             0.213702             0.774980   \n",
      "180             1.461876             1.537723             0.774980   \n",
      "277            -1.279142            -1.110320            -0.753527   \n",
      "185             0.091367            -1.110320             1.539234   \n",
      "233            -1.279142            -1.110320            -0.753527   \n",
      "\n",
      "     cluster_team_home_y  cluster_team_away  cluster_team_home  \\\n",
      "244            -1.064589          -0.992049          -0.816842   \n",
      "180            -1.064589          -0.992049          -0.442565   \n",
      "277             1.112979           1.571600           1.803092   \n",
      "185            -1.064589           0.472894          -1.565394   \n",
      "233            -1.064589           1.571600           0.680264   \n",
      "\n",
      "     uid_arsenalbournemouth  uid_arsenalbrom  uid_arsenalchelsea  \\\n",
      "244                       0                0                   0   \n",
      "180                       0                0                   0   \n",
      "277                       0                0                   0   \n",
      "185                       0                0                   0   \n",
      "233                       0                0                   0   \n",
      "\n",
      "     uid_arsenalcity           ...            away_team_name_id_norwich  \\\n",
      "244                0           ...                                    0   \n",
      "180                0           ...                                    0   \n",
      "277                0           ...                                    0   \n",
      "185                0           ...                                    0   \n",
      "233                0           ...                                    0   \n",
      "\n",
      "     away_team_name_id_southampton  away_team_name_id_stoke  \\\n",
      "244                              0                        0   \n",
      "180                              0                        0   \n",
      "277                              0                        0   \n",
      "185                              0                        1   \n",
      "233                              0                        0   \n",
      "\n",
      "     away_team_name_id_sunderland  away_team_name_id_swansea  \\\n",
      "244                             1                          0   \n",
      "180                             0                          0   \n",
      "277                             0                          0   \n",
      "185                             0                          0   \n",
      "233                             0                          0   \n",
      "\n",
      "     away_team_name_id_tottenham  away_team_name_id_united  \\\n",
      "244                            0                         0   \n",
      "180                            0                         0   \n",
      "277                            1                         0   \n",
      "185                            0                         0   \n",
      "233                            1                         0   \n",
      "\n",
      "     away_team_name_id_villa  away_team_name_id_watford  \\\n",
      "244                        0                          0   \n",
      "180                        0                          0   \n",
      "277                        0                          0   \n",
      "185                        0                          0   \n",
      "233                        0                          0   \n",
      "\n",
      "     away_team_name_id_west  \n",
      "244                       0  \n",
      "180                       0  \n",
      "277                       0  \n",
      "185                       0  \n",
      "233                       0  \n",
      "\n",
      "[5 rows x 426 columns]\n"
     ]
    },
    {
     "name": "stderr",
     "output_type": "stream",
     "text": [
      "/usr/local/lib/python3.7/site-packages/sklearn/linear_model/logistic.py:432: FutureWarning: Default solver will be changed to 'lbfgs' in 0.22. Specify a solver to silence this warning.\n",
      "  FutureWarning)\n",
      "/usr/local/lib/python3.7/site-packages/sklearn/linear_model/logistic.py:459: FutureWarning: Default multi_class will be changed to 'auto' in 0.22. Specify the multi_class option to silence this warning.\n",
      "  \"this warning.\", FutureWarning)\n"
     ]
    },
    {
     "data": {
      "image/png": "[encoded data removed]",
      "text/plain": [
       "<Figure size 432x288 with 1 Axes>"
      ]
     },
     "metadata": {
      "needs_background": "light"
     },
     "output_type": "display_data"
    },
    {
     "data": {
      "image/png": "[encoded data removed]",
      "text/plain": [
       "<Figure size 432x288 with 1 Axes>"
      ]
     },
     "metadata": {
      "needs_background": "light"
     },
     "output_type": "display_data"
    },
    {
     "name": "stdout",
     "output_type": "stream",
     "text": [
      "Confusion matrix, without normalization\n",
      "[[ 2  7 14]\n",
      " [10 11  9]\n",
      " [ 4  6 32]]\n",
      "Normalized confusion matrix\n",
      "[[0.09 0.3  0.61]\n",
      " [0.33 0.37 0.3 ]\n",
      " [0.1  0.14 0.76]]\n"
     ]
    },
    {
     "data": {
      "image/png": "[encoded data removed]",
      "text/plain": [
       "<Figure size 432x288 with 2 Axes>"
      ]
     },
     "metadata": {
      "needs_background": "light"
     },
     "output_type": "display_data"
    },
    {
     "data": {
      "image/png": "[encoded data removed]",
      "text/plain": [
       "<Figure size 432x288 with 2 Axes>"
      ]
     },
     "metadata": {
      "needs_background": "light"
     },
     "output_type": "display_data"
    }
   ],
   "source": [
    "X_train.info()\n",
    "\n",
    "logreg = LogisticRegression()\n",
    "logreg.fit(X_train, y_train)\n",
    "\n",
    "print('Accuracy of Logistic regression classifier on training set: {:.2f}'\n",
    "     .format(logreg.score(X_train, y_train)))\n",
    "\n",
    "print('Accuracy of Logistic regression classifier on test set: {:.2f}'\n",
    "     .format(logreg.score(X_test, y_test)))\n",
    "\n",
    "\n",
    "y_predict = logreg.predict(X_test)\n",
    "print('F1 Score of Logistic regression classifier on test set: {:.2f}'\n",
    "     .format(f1_score(y_test, y_predict, average='weighted')))\n",
    "\n",
    "\n",
    "# dropcol_importances(logreg, X_train, y_train)\n",
    "# permutation_importances(logreg, X_train, y_train)\n",
    "\n",
    "\n",
    "predictions = logreg.predict(X_test)\n",
    "for input, prediction, label in zip(X_test.index, predictions, y_test):\n",
    "    if prediction != label:\n",
    "        print(input, 'has been classified as ', prediction, 'and should be ', label) \n",
    "\n",
    "list(zip(X_test, predictions, y_test))\n",
    "print(X_test.head())\n",
    "\n",
    "sns.countplot(y_test,label=\"Count\")\n",
    "plt.show()\n",
    "sns.countplot(predictions,label=\"Count\")\n",
    "plt.show()\n",
    "\n",
    "class_names = list(set(y_test))\n",
    "# Compute confusion matrix\n",
    "cnf_matrix = confusion_matrix(y_test, predictions,labels=class_names)\n",
    "np.set_printoptions(precision=2)\n",
    "\n",
    "# Plot non-normalized confusion matrix\n",
    "plt.figure()\n",
    "plot_confusion_matrix(cnf_matrix, classes=class_names,\n",
    "                      title='Confusion matrix, without normalization')\n",
    "\n",
    "# Plot normalized confusion matrix\n",
    "plt.figure()\n",
    "plot_confusion_matrix(cnf_matrix, classes=class_names, normalize=True,\n",
    "                      title='Normalized confusion matrix')\n",
    "\n",
    "plt.show()"
   ]
  },
  {
   "cell_type": "markdown",
   "metadata": {},
   "source": [
    "## SVC"
   ]
  },
  {
   "cell_type": "code",
   "execution_count": 74,
   "metadata": {},
   "outputs": [
    {
     "name": "stdout",
     "output_type": "stream",
     "text": [
      "Accuracy of SVM classifier on training set: 0.40\n",
      "Accuracy of SVM classifier on test set: 0.44\n",
      "F1 Score of SVC classifier on test set: 0.27\n"
     ]
    },
    {
     "name": "stderr",
     "output_type": "stream",
     "text": [
      "/usr/local/lib/python3.7/site-packages/sklearn/svm/base.py:196: FutureWarning: The default value of gamma will change from 'auto' to 'scale' in version 0.22 to account better for unscaled features. Set gamma explicitly to 'auto' or 'scale' to avoid this warning.\n",
      "  \"avoid this warning.\", FutureWarning)\n",
      "/usr/local/lib/python3.7/site-packages/sklearn/metrics/classification.py:1143: UndefinedMetricWarning: F-score is ill-defined and being set to 0.0 in labels with no predicted samples.\n",
      "  'precision', 'predicted', average, warn_for)\n"
     ]
    }
   ],
   "source": [
    "svm = SVC()\n",
    "svm.fit(X_train, y_train)\n",
    "\n",
    "print('Accuracy of SVM classifier on training set: {:.2f}'\n",
    "     .format(svm.score(X_train, y_train)))\n",
    "print('Accuracy of SVM classifier on test set: {:.2f}'\n",
    "     .format(svm.score(X_test, y_test)))\n",
    "\n",
    "y_predict = svm.predict(X_test)\n",
    "print('F1 Score of SVC classifier on test set: {:.2f}'\n",
    "     .format(f1_score(y_test, y_predict, average='weighted')))\n",
    "\n",
    "# dropcol_importances(svm, X_train, y_train)\n",
    "# permutation_importances(svm, X_train, y_train)"
   ]
  },
  {
   "cell_type": "code",
   "execution_count": 75,
   "metadata": {},
   "outputs": [
    {
     "name": "stdout",
     "output_type": "stream",
     "text": [
      "244 has been classified as  H and should be  D\n",
      "185 has been classified as  H and should be  A\n",
      "233 has been classified as  H and should be  A\n",
      "315 has been classified as  H and should be  D\n",
      "138 has been classified as  H and should be  D\n",
      "201 has been classified as  H and should be  A\n",
      "117 has been classified as  H and should be  D\n",
      "227 has been classified as  H and should be  A\n",
      "119 has been classified as  H and should be  A\n",
      "89 has been classified as  H and should be  A\n",
      "5 has been classified as  H and should be  A\n",
      "139 has been classified as  H and should be  D\n",
      "161 has been classified as  H and should be  A\n",
      "6 has been classified as  H and should be  A\n",
      "120 has been classified as  H and should be  A\n",
      "223 has been classified as  H and should be  D\n",
      "106 has been classified as  H and should be  D\n",
      "268 has been classified as  H and should be  D\n",
      "127 has been classified as  H and should be  D\n",
      "371 has been classified as  H and should be  D\n",
      "228 has been classified as  H and should be  A\n",
      "82 has been classified as  H and should be  A\n",
      "339 has been classified as  H and should be  A\n",
      "376 has been classified as  H and should be  D\n",
      "172 has been classified as  H and should be  D\n",
      "294 has been classified as  H and should be  A\n",
      "17 has been classified as  H and should be  A\n",
      "132 has been classified as  H and should be  D\n",
      "291 has been classified as  H and should be  A\n",
      "250 has been classified as  H and should be  A\n",
      "346 has been classified as  H and should be  A\n",
      "67 has been classified as  H and should be  D\n",
      "11 has been classified as  H and should be  A\n",
      "327 has been classified as  H and should be  A\n",
      "204 has been classified as  H and should be  D\n",
      "305 has been classified as  H and should be  A\n",
      "230 has been classified as  H and should be  D\n",
      "23 has been classified as  H and should be  D\n",
      "304 has been classified as  H and should be  A\n",
      "234 has been classified as  H and should be  A\n",
      "323 has been classified as  H and should be  D\n",
      "324 has been classified as  H and should be  D\n",
      "165 has been classified as  H and should be  A\n",
      "347 has been classified as  H and should be  D\n",
      "284 has been classified as  H and should be  D\n",
      "27 has been classified as  H and should be  D\n",
      "295 has been classified as  H and should be  A\n",
      "73 has been classified as  H and should be  A\n",
      "98 has been classified as  H and should be  A\n",
      "93 has been classified as  H and should be  A\n",
      "271 has been classified as  H and should be  A\n",
      "310 has been classified as  H and should be  D\n",
      "249 has been classified as  H and should be  A\n"
     ]
    },
    {
     "data": {
      "image/png": "[encoded data removed]",
      "text/plain": [
       "<Figure size 432x288 with 1 Axes>"
      ]
     },
     "metadata": {
      "needs_background": "light"
     },
     "output_type": "display_data"
    },
    {
     "data": {
      "image/png": "[encoded data removed]",
      "text/plain": [
       "<Figure size 432x288 with 1 Axes>"
      ]
     },
     "metadata": {
      "needs_background": "light"
     },
     "output_type": "display_data"
    },
    {
     "name": "stdout",
     "output_type": "stream",
     "text": [
      "Confusion matrix, without normalization\n",
      "[[ 0  0 23]\n",
      " [ 0  0 30]\n",
      " [ 0  0 42]]\n",
      "Normalized confusion matrix\n",
      "[[0. 0. 1.]\n",
      " [0. 0. 1.]\n",
      " [0. 0. 1.]]\n"
     ]
    },
    {
     "data": {
      "image/png": "[encoded data removed]",
      "text/plain": [
       "<Figure size 432x288 with 2 Axes>"
      ]
     },
     "metadata": {
      "needs_background": "light"
     },
     "output_type": "display_data"
    },
    {
     "data": {
      "image/png": "[encoded data removed]",
      "text/plain": [
       "<Figure size 432x288 with 2 Axes>"
      ]
     },
     "metadata": {
      "needs_background": "light"
     },
     "output_type": "display_data"
    }
   ],
   "source": [
    "predictions = svm.predict(X_test)\n",
    "for input, prediction, label in zip(X_test.index, predictions, y_test):\n",
    "    if prediction != label:\n",
    "        print(input, 'has been classified as ', prediction, 'and should be ', label) \n",
    "\n",
    "list(zip(X_test, predictions, y_test))\n",
    "X_test.head()\n",
    "\n",
    "\n",
    "sns.countplot(y_test,label=\"Count\")\n",
    "plt.show()\n",
    "sns.countplot(predictions,label=\"Count\")\n",
    "plt.show()\n",
    "\n",
    "\n",
    "\n",
    "class_names = list(set(y_test))\n",
    "# Compute confusion matrix\n",
    "cnf_matrix = confusion_matrix(y_test, predictions,labels=class_names)\n",
    "np.set_printoptions(precision=2)\n",
    "\n",
    "# Plot non-normalized confusion matrix\n",
    "plt.figure()\n",
    "plot_confusion_matrix(cnf_matrix, classes=class_names,\n",
    "                      title='Confusion matrix, without normalization')\n",
    "\n",
    "# Plot normalized confusion matrix\n",
    "plt.figure()\n",
    "plot_confusion_matrix(cnf_matrix, classes=class_names, normalize=True,\n",
    "                      title='Normalized confusion matrix')\n",
    "\n",
    "plt.show()"
   ]
  },
  {
   "cell_type": "code",
   "execution_count": 76,
   "metadata": {},
   "outputs": [
    {
     "data": {
      "text/plain": [
       "['A',\n",
       " 'D',\n",
       " 'D',\n",
       " 'H',\n",
       " 'H',\n",
       " 'A',\n",
       " 'A',\n",
       " 'D',\n",
       " 'A',\n",
       " 'A',\n",
       " 'A',\n",
       " 'A',\n",
       " 'A',\n",
       " 'H',\n",
       " 'D',\n",
       " 'D',\n",
       " 'A',\n",
       " 'A',\n",
       " 'H',\n",
       " 'H',\n",
       " 'A',\n",
       " 'D',\n",
       " 'D',\n",
       " 'D',\n",
       " 'H',\n",
       " 'D',\n",
       " 'A',\n",
       " 'D',\n",
       " 'A',\n",
       " 'D',\n",
       " 'D',\n",
       " 'A',\n",
       " 'A',\n",
       " 'H',\n",
       " 'A',\n",
       " 'D',\n",
       " 'A',\n",
       " 'D',\n",
       " 'H',\n",
       " 'H',\n",
       " 'D',\n",
       " 'H',\n",
       " 'H',\n",
       " 'A',\n",
       " 'H',\n",
       " 'H',\n",
       " 'H',\n",
       " 'H',\n",
       " 'A',\n",
       " 'H',\n",
       " 'H',\n",
       " 'A',\n",
       " 'H',\n",
       " 'D',\n",
       " 'A',\n",
       " 'A',\n",
       " 'D',\n",
       " 'H',\n",
       " 'D',\n",
       " 'A',\n",
       " 'A',\n",
       " 'H',\n",
       " 'H',\n",
       " 'D',\n",
       " 'H',\n",
       " 'H',\n",
       " 'H',\n",
       " 'D',\n",
       " 'A',\n",
       " 'A',\n",
       " 'A',\n",
       " 'A',\n",
       " 'D',\n",
       " 'A',\n",
       " 'H',\n",
       " 'D',\n",
       " 'H',\n",
       " 'D',\n",
       " 'H',\n",
       " 'D',\n",
       " 'A',\n",
       " 'H',\n",
       " 'A',\n",
       " 'A',\n",
       " 'H',\n",
       " 'D',\n",
       " 'D',\n",
       " 'H',\n",
       " 'H',\n",
       " 'A',\n",
       " 'H',\n",
       " 'A',\n",
       " 'H',\n",
       " 'A',\n",
       " 'A',\n",
       " 'H',\n",
       " 'D',\n",
       " 'D',\n",
       " 'A',\n",
       " 'H',\n",
       " 'H',\n",
       " 'D',\n",
       " 'H',\n",
       " 'A',\n",
       " 'A',\n",
       " 'A',\n",
       " 'D',\n",
       " 'H',\n",
       " 'H',\n",
       " 'H',\n",
       " 'A',\n",
       " 'H',\n",
       " 'D',\n",
       " 'A',\n",
       " 'H',\n",
       " 'H',\n",
       " 'H',\n",
       " 'D',\n",
       " 'D',\n",
       " 'A',\n",
       " 'A',\n",
       " 'H',\n",
       " 'H',\n",
       " 'A',\n",
       " 'A',\n",
       " 'A',\n",
       " 'H',\n",
       " 'D',\n",
       " 'H',\n",
       " 'A',\n",
       " 'H',\n",
       " 'H',\n",
       " 'D',\n",
       " 'A',\n",
       " 'H',\n",
       " 'D',\n",
       " 'H',\n",
       " 'D',\n",
       " 'D',\n",
       " 'D',\n",
       " 'D',\n",
       " 'D',\n",
       " 'D',\n",
       " 'A',\n",
       " 'H',\n",
       " 'H',\n",
       " 'H',\n",
       " 'A',\n",
       " 'H',\n",
       " 'D',\n",
       " 'H',\n",
       " 'H',\n",
       " 'A',\n",
       " 'D',\n",
       " 'H',\n",
       " 'D',\n",
       " 'D',\n",
       " 'A',\n",
       " 'A',\n",
       " 'H',\n",
       " 'A',\n",
       " 'A',\n",
       " 'A',\n",
       " 'H',\n",
       " 'A',\n",
       " 'A',\n",
       " 'D',\n",
       " 'D',\n",
       " 'H',\n",
       " 'H',\n",
       " 'D',\n",
       " 'D',\n",
       " 'D',\n",
       " 'H',\n",
       " 'H',\n",
       " 'A',\n",
       " 'H',\n",
       " 'H',\n",
       " 'H',\n",
       " 'H',\n",
       " 'H',\n",
       " 'H',\n",
       " 'A',\n",
       " 'H',\n",
       " 'D',\n",
       " 'A',\n",
       " 'H',\n",
       " 'D',\n",
       " 'D',\n",
       " 'A',\n",
       " 'A',\n",
       " 'H',\n",
       " 'H',\n",
       " 'H',\n",
       " 'H',\n",
       " 'H',\n",
       " 'D',\n",
       " 'H',\n",
       " 'D',\n",
       " 'A',\n",
       " 'H',\n",
       " 'A',\n",
       " 'D',\n",
       " 'A',\n",
       " 'D',\n",
       " 'D',\n",
       " 'D',\n",
       " 'H',\n",
       " 'H',\n",
       " 'A',\n",
       " 'D',\n",
       " 'H',\n",
       " 'D',\n",
       " 'H',\n",
       " 'H',\n",
       " 'H',\n",
       " 'H',\n",
       " 'D',\n",
       " 'A',\n",
       " 'H',\n",
       " 'H',\n",
       " 'A',\n",
       " 'A',\n",
       " 'D',\n",
       " 'H',\n",
       " 'D',\n",
       " 'D',\n",
       " 'A',\n",
       " 'A',\n",
       " 'A',\n",
       " 'D',\n",
       " 'D',\n",
       " 'H',\n",
       " 'A',\n",
       " 'A',\n",
       " 'H',\n",
       " 'H',\n",
       " 'A',\n",
       " 'H',\n",
       " 'D',\n",
       " 'D',\n",
       " 'H',\n",
       " 'H',\n",
       " 'A',\n",
       " 'D',\n",
       " 'H',\n",
       " 'H',\n",
       " 'A',\n",
       " 'D',\n",
       " 'A',\n",
       " 'A',\n",
       " 'H',\n",
       " 'A',\n",
       " 'H',\n",
       " 'A',\n",
       " 'A',\n",
       " 'D',\n",
       " 'H',\n",
       " 'A',\n",
       " 'A',\n",
       " 'H',\n",
       " 'H',\n",
       " 'H',\n",
       " 'A',\n",
       " 'H',\n",
       " 'D',\n",
       " 'H',\n",
       " 'H',\n",
       " 'D',\n",
       " 'A',\n",
       " 'H',\n",
       " 'A',\n",
       " 'D',\n",
       " 'H',\n",
       " 'H',\n",
       " 'H',\n",
       " 'A',\n",
       " 'H',\n",
       " 'D',\n",
       " 'A',\n",
       " 'H',\n",
       " 'A',\n",
       " 'D',\n",
       " 'H',\n",
       " 'D',\n",
       " 'A',\n",
       " 'A',\n",
       " 'H',\n",
       " 'H',\n",
       " 'A',\n",
       " 'D',\n",
       " 'A',\n",
       " 'H',\n",
       " 'D',\n",
       " 'A',\n",
       " 'A',\n",
       " 'H',\n",
       " 'A',\n",
       " 'A',\n",
       " 'A',\n",
       " 'D',\n",
       " 'H',\n",
       " 'H',\n",
       " 'H',\n",
       " 'A',\n",
       " 'A',\n",
       " 'D',\n",
       " 'H',\n",
       " 'D',\n",
       " 'D',\n",
       " 'D',\n",
       " 'H',\n",
       " 'H',\n",
       " 'H',\n",
       " 'D',\n",
       " 'D',\n",
       " 'H',\n",
       " 'A',\n",
       " 'H',\n",
       " 'H',\n",
       " 'H',\n",
       " 'A',\n",
       " 'H',\n",
       " 'D',\n",
       " 'D',\n",
       " 'H',\n",
       " 'H',\n",
       " 'A',\n",
       " 'A',\n",
       " 'A',\n",
       " 'D',\n",
       " 'D',\n",
       " 'A',\n",
       " 'A',\n",
       " 'D',\n",
       " 'H',\n",
       " 'H',\n",
       " 'H',\n",
       " 'H',\n",
       " 'A',\n",
       " 'A',\n",
       " 'D',\n",
       " 'H',\n",
       " 'H',\n",
       " 'D',\n",
       " 'D',\n",
       " 'A',\n",
       " 'D',\n",
       " 'H',\n",
       " 'H',\n",
       " 'H',\n",
       " 'H',\n",
       " 'H',\n",
       " 'D',\n",
       " 'H',\n",
       " 'D',\n",
       " 'D',\n",
       " 'D',\n",
       " 'H',\n",
       " 'H',\n",
       " 'A',\n",
       " 'H',\n",
       " 'A',\n",
       " 'D',\n",
       " 'A',\n",
       " 'H',\n",
       " 'H',\n",
       " 'H',\n",
       " 'D',\n",
       " 'H',\n",
       " 'D',\n",
       " 'D',\n",
       " 'D',\n",
       " 'H',\n",
       " 'H',\n",
       " 'H',\n",
       " 'D',\n",
       " 'H',\n",
       " 'H',\n",
       " 'H']"
      ]
     },
     "execution_count": 76,
     "metadata": {},
     "output_type": "execute_result"
    }
   ],
   "source": [
    "list(labels)"
   ]
  },
  {
   "cell_type": "markdown",
   "metadata": {},
   "source": [
    "# Random Forest"
   ]
  },
  {
   "cell_type": "code",
   "execution_count": 20,
   "metadata": {},
   "outputs": [
    {
     "name": "stderr",
     "output_type": "stream",
     "text": [
      "/usr/local/lib/python3.7/site-packages/sklearn/ensemble/forest.py:248: FutureWarning: The default value of n_estimators will change from 10 in version 0.20 to 100 in 0.22.\n",
      "  \"10 in version 0.20 to 100 in 0.22.\", FutureWarning)\n",
      "/usr/local/lib/python3.7/site-packages/sklearn/ensemble/forest.py:460: UserWarning: Some inputs do not have OOB scores. This probably means too few trees were used to compute any reliable oob estimates.\n",
      "  warn(\"Some inputs do not have OOB scores. \"\n",
      "/usr/local/lib/python3.7/site-packages/sklearn/ensemble/forest.py:465: RuntimeWarning: invalid value encountered in true_divide\n",
      "  predictions[k].sum(axis=1)[:, np.newaxis])\n"
     ]
    },
    {
     "name": "stdout",
     "output_type": "stream",
     "text": [
      "Accuracy of RF classifier on training set: 0.75\n",
      "Accuracy of RF classifier on test set: 0.42\n",
      "F1 Score of RF classifier on test set: 0.37\n"
     ]
    },
    {
     "data": {
      "image/png": "[encoded data removed]",
      "text/plain": [
       "<Figure size 432x288 with 1 Axes>"
      ]
     },
     "metadata": {
      "needs_background": "light"
     },
     "output_type": "display_data"
    },
    {
     "data": {
      "text/plain": [
       "<matplotlib.axes._subplots.AxesSubplot at 0x11cd2f780>"
      ]
     },
     "execution_count": 20,
     "metadata": {},
     "output_type": "execute_result"
    },
    {
     "data": {
      "image/png": "[encoded data removed]",
      "text/plain": [
       "<Figure size 1080x1080 with 1 Axes>"
      ]
     },
     "metadata": {
      "needs_background": "light"
     },
     "output_type": "display_data"
    }
   ],
   "source": [
    "rf = RandomForestClassifier(oob_score=True, max_depth=10)\n",
    "# X_train = X_train[['FTHG','FTAG']]\n",
    "# X_test = X_test[['FTHG','FTAG']]\n",
    "\n",
    "rf.fit(X_train, y_train)\n",
    "\n",
    "print('Accuracy of RF classifier on training set: {:.2f}'\n",
    "     .format(rf.score(X_train, y_train)))\n",
    "print('Accuracy of RF classifier on test set: {:.2f}'\n",
    "     .format(rf.score(X_test, y_test)))\n",
    "\n",
    "y_predict = rf.predict(X_test)\n",
    "print('F1 Score of RF classifier on test set: {:.2f}'\n",
    "     .format(f1_score(y_test, y_predict, average='weighted')))\n",
    "\n",
    "\n",
    "features = X_train.columns\n",
    "importances = rf.feature_importances_\n",
    "indices = np.argsort(importances)\n",
    "\n",
    "plt.title('Feature Importances')\n",
    "plt.barh(range(len(indices)), importances[indices], color='b', align='center')\n",
    "plt.yticks(range(len(indices)), [features[i] for i in indices])\n",
    "plt.xlabel('Relative Importance')\n",
    "plt.show()\n",
    "\n",
    "\n",
    "feat_importances = pd.Series(rf.feature_importances_, index=X_train.columns)\n",
    "fig =plt.subplots(figsize=(15,15))\n",
    "feat_importances.nlargest(40).plot(kind='barh')"
   ]
  },
  {
   "cell_type": "code",
   "execution_count": 21,
   "metadata": {},
   "outputs": [
    {
     "name": "stdout",
     "output_type": "stream",
     "text": [
      "244 has been classified as  H and should be  D\n",
      "180 has been classified as  A and should be  H\n",
      "277 has been classified as  A and should be  H\n",
      "315 has been classified as  H and should be  D\n",
      "138 has been classified as  H and should be  D\n",
      "201 has been classified as  D and should be  A\n",
      "117 has been classified as  A and should be  D\n",
      "65 has been classified as  A and should be  H\n",
      "119 has been classified as  H and should be  A\n",
      "89 has been classified as  D and should be  A\n",
      "5 has been classified as  H and should be  A\n",
      "139 has been classified as  H and should be  D\n",
      "354 has been classified as  A and should be  H\n",
      "320 has been classified as  D and should be  H\n",
      "161 has been classified as  H and should be  A\n",
      "6 has been classified as  H and should be  A\n",
      "120 has been classified as  H and should be  A\n",
      "223 has been classified as  H and should be  D\n",
      "238 has been classified as  A and should be  H\n",
      "4 has been classified as  A and should be  H\n",
      "268 has been classified as  H and should be  D\n",
      "127 has been classified as  H and should be  D\n",
      "371 has been classified as  H and should be  D\n",
      "228 has been classified as  H and should be  A\n",
      "82 has been classified as  D and should be  A\n",
      "339 has been classified as  H and should be  A\n",
      "376 has been classified as  A and should be  D\n",
      "172 has been classified as  H and should be  D\n",
      "17 has been classified as  H and should be  A\n",
      "132 has been classified as  H and should be  D\n",
      "250 has been classified as  H and should be  A\n",
      "346 has been classified as  D and should be  A\n",
      "67 has been classified as  H and should be  D\n",
      "11 has been classified as  H and should be  A\n",
      "327 has been classified as  H and should be  A\n",
      "107 has been classified as  A and should be  H\n",
      "204 has been classified as  H and should be  D\n",
      "163 has been classified as  D and should be  H\n",
      "305 has been classified as  H and should be  A\n",
      "230 has been classified as  A and should be  D\n",
      "23 has been classified as  H and should be  D\n",
      "234 has been classified as  H and should be  A\n",
      "323 has been classified as  H and should be  D\n",
      "324 has been classified as  A and should be  D\n",
      "165 has been classified as  H and should be  A\n",
      "192 has been classified as  A and should be  H\n",
      "191 has been classified as  A and should be  H\n",
      "347 has been classified as  A and should be  D\n",
      "284 has been classified as  H and should be  D\n",
      "349 has been classified as  A and should be  H\n",
      "27 has been classified as  H and should be  D\n",
      "93 has been classified as  H and should be  A\n",
      "271 has been classified as  H and should be  A\n",
      "310 has been classified as  H and should be  D\n",
      "249 has been classified as  H and should be  A\n"
     ]
    },
    {
     "data": {
      "image/png": "[encoded data removed]",
      "text/plain": [
       "<Figure size 432x288 with 1 Axes>"
      ]
     },
     "metadata": {
      "needs_background": "light"
     },
     "output_type": "display_data"
    },
    {
     "data": {
      "image/png": "[encoded data removed]",
      "text/plain": [
       "<Figure size 432x288 with 1 Axes>"
      ]
     },
     "metadata": {
      "needs_background": "light"
     },
     "output_type": "display_data"
    }
   ],
   "source": [
    "#X_train['random'] = np.random.random(size=len(X_train))\n",
    "\n",
    "# dropcol_importances(rf, X_train, y_train)\n",
    "# permutation_importances(rf, X_train, y_train)\n",
    "\n",
    "\n",
    "predictions = rf.predict(X_test)\n",
    "for input, prediction, label in zip(X_test.index, predictions, y_test):\n",
    "    if prediction != label:\n",
    "        print(input, 'has been classified as ', prediction, 'and should be ', label) \n",
    "\n",
    "list(zip(X_test, predictions, y_test))\n",
    "X_test.head()\n",
    "\n",
    "sns.countplot(y_test,label=\"Count\")\n",
    "plt.show()\n",
    "sns.countplot(predictions,label=\"Count\")\n",
    "plt.show()\n",
    "\n"
   ]
  },
  {
   "cell_type": "markdown",
   "metadata": {},
   "source": [
    "## Let's try to convert the label to dummy variables"
   ]
  },
  {
   "cell_type": "code",
   "execution_count": 22,
   "metadata": {},
   "outputs": [
    {
     "name": "stdout",
     "output_type": "stream",
     "text": [
      "Confusion matrix, without normalization\n",
      "[[ 1  5 17]\n",
      " [ 4  9 17]\n",
      " [ 2 10 30]]\n",
      "Normalized confusion matrix\n",
      "[[0.04 0.22 0.74]\n",
      " [0.13 0.3  0.57]\n",
      " [0.05 0.24 0.71]]\n"
     ]
    },
    {
     "data": {
      "image/png": "[encoded data removed]",
      "text/plain": [
       "<Figure size 432x288 with 2 Axes>"
      ]
     },
     "metadata": {
      "needs_background": "light"
     },
     "output_type": "display_data"
    },
    {
     "data": {
      "image/png": "[encoded data removed]",
      "text/plain": [
       "<Figure size 432x288 with 2 Axes>"
      ]
     },
     "metadata": {
      "needs_background": "light"
     },
     "output_type": "display_data"
    }
   ],
   "source": [
    "\n",
    "\n",
    "\n",
    "    \n",
    "class_names = list(set(y_test))\n",
    "# Compute confusion matrix\n",
    "cnf_matrix = confusion_matrix(y_test, predictions,labels=class_names)\n",
    "np.set_printoptions(precision=2)\n",
    "\n",
    "# Plot non-normalized confusion matrix\n",
    "plt.figure()\n",
    "plot_confusion_matrix(cnf_matrix, classes=class_names,\n",
    "                      title='Confusion matrix, without normalization')\n",
    "\n",
    "# Plot normalized confusion matrix\n",
    "plt.figure()\n",
    "plot_confusion_matrix(cnf_matrix, classes=class_names, normalize=True,\n",
    "                      title='Normalized confusion matrix')\n",
    "\n",
    "plt.show()"
   ]
  },
  {
   "cell_type": "code",
   "execution_count": null,
   "metadata": {},
   "outputs": [],
   "source": []
  },
  {
   "cell_type": "code",
   "execution_count": null,
   "metadata": {},
   "outputs": [],
   "source": []
  },
  {
   "cell_type": "code",
   "execution_count": 23,
   "metadata": {},
   "outputs": [
    {
     "name": "stderr",
     "output_type": "stream",
     "text": [
      "/usr/local/lib/python3.7/site-packages/sklearn/linear_model/logistic.py:432: FutureWarning: Default solver will be changed to 'lbfgs' in 0.22. Specify a solver to silence this warning.\n",
      "  FutureWarning)\n",
      "/usr/local/lib/python3.7/site-packages/sklearn/linear_model/logistic.py:432: FutureWarning: Default solver will be changed to 'lbfgs' in 0.22. Specify a solver to silence this warning.\n",
      "  FutureWarning)\n",
      "/usr/local/lib/python3.7/site-packages/sklearn/linear_model/logistic.py:432: FutureWarning: Default solver will be changed to 'lbfgs' in 0.22. Specify a solver to silence this warning.\n",
      "  FutureWarning)\n",
      "/usr/local/lib/python3.7/site-packages/sklearn/linear_model/logistic.py:432: FutureWarning: Default solver will be changed to 'lbfgs' in 0.22. Specify a solver to silence this warning.\n",
      "  FutureWarning)\n",
      "/usr/local/lib/python3.7/site-packages/sklearn/linear_model/logistic.py:432: FutureWarning: Default solver will be changed to 'lbfgs' in 0.22. Specify a solver to silence this warning.\n",
      "  FutureWarning)\n",
      "/usr/local/lib/python3.7/site-packages/sklearn/linear_model/logistic.py:432: FutureWarning: Default solver will be changed to 'lbfgs' in 0.22. Specify a solver to silence this warning.\n",
      "  FutureWarning)\n"
     ]
    },
    {
     "name": "stdout",
     "output_type": "stream",
     "text": [
      "Accuracy of Logistic regression classifier A on training set: 0.86\n",
      "Accuracy of Logistic regression classifier A on test set: 0.71\n",
      "Accuracy of Logistic regression classifier H on training set: 0.87\n",
      "Accuracy of Logistic regression classifier H on test set: 0.59\n",
      "Accuracy of Logistic regression classifier D on training set: 0.82\n",
      "Accuracy of Logistic regression classifier D on test set: 0.75\n"
     ]
    },
    {
     "data": {
      "image/png": "[encoded data removed]",
      "text/plain": [
       "<Figure size 432x288 with 1 Axes>"
      ]
     },
     "metadata": {
      "needs_background": "light"
     },
     "output_type": "display_data"
    },
    {
     "data": {
      "image/png": "[encoded data removed]",
      "text/plain": [
       "<Figure size 432x288 with 1 Axes>"
      ]
     },
     "metadata": {
      "needs_background": "light"
     },
     "output_type": "display_data"
    },
    {
     "data": {
      "image/png": "[encoded data removed]",
      "text/plain": [
       "<Figure size 432x288 with 1 Axes>"
      ]
     },
     "metadata": {
      "needs_background": "light"
     },
     "output_type": "display_data"
    }
   ],
   "source": [
    "y_train_A = pd.get_dummies(y_train)['A']\n",
    "y_test_A = pd.get_dummies(y_test)['A']\n",
    "\n",
    "logreg = LogisticRegression()\n",
    "logreg.fit(X_train, y_train_A)\n",
    "\n",
    "print('Accuracy of Logistic regression classifier A on training set: {:.2f}'\n",
    "     .format(logreg.score(X_train, y_train_A)))\n",
    "\n",
    "print('Accuracy of Logistic regression classifier A on test set: {:.2f}'\n",
    "     .format(logreg.score(X_test, y_test_A)))\n",
    "\n",
    "\n",
    "\n",
    "\n",
    "\n",
    "\n",
    "y_train_H = pd.get_dummies(y_train)['H']\n",
    "y_test_H = pd.get_dummies(y_test)['H']\n",
    "\n",
    "logreg = LogisticRegression()\n",
    "logreg.fit(X_train, y_train_H)\n",
    "\n",
    "print('Accuracy of Logistic regression classifier H on training set: {:.2f}'\n",
    "     .format(logreg.score(X_train, y_train_H)))\n",
    "\n",
    "print('Accuracy of Logistic regression classifier H on test set: {:.2f}'\n",
    "     .format(logreg.score(X_test, y_test_H)))\n",
    "\n",
    "\n",
    "\n",
    "\n",
    "\n",
    "y_train_D = pd.get_dummies(y_train)['D']\n",
    "y_test_D = pd.get_dummies(y_test)['D']\n",
    "\n",
    "logreg = LogisticRegression()\n",
    "logreg.fit(X_train, y_train_D)\n",
    "\n",
    "print('Accuracy of Logistic regression classifier D on training set: {:.2f}'\n",
    "     .format(logreg.score(X_train, y_train_D)))\n",
    "\n",
    "print('Accuracy of Logistic regression classifier D on test set: {:.2f}'\n",
    "     .format(logreg.score(X_test, y_test_D)))\n",
    "\n",
    "\n",
    "\n",
    "y_train_bin = label_binarize(y_train, classes=['H','D','A'])\n",
    "y_test_bin = label_binarize(y_test, classes=['H','D','A'])\n",
    "n_classes = 3\n",
    "dict_classes = {0:'H',1:'D',2:'A'}\n",
    "\n",
    "\n",
    "\n",
    "# classifier\n",
    "clf = OneVsRestClassifier(LogisticRegression())\n",
    "y_score = clf.fit(X_train, y_train_bin).decision_function(X_test)\n",
    "\n",
    "# Compute ROC curve and ROC area for each class\n",
    "fpr = dict()\n",
    "tpr = dict()\n",
    "roc_auc = dict()\n",
    "for i in range(n_classes):\n",
    "    fpr[i], tpr[i], _ = roc_curve(y_test_bin[:, i], y_score[:, i])\n",
    "    roc_auc[i] = auc(fpr[i], tpr[i])\n",
    "\n",
    "# Plot of a ROC curve for a specific class\n",
    "for i in range(n_classes):\n",
    "    plt.figure()\n",
    "    plt.plot(fpr[i], tpr[i], label='ROC curve (area = %0.2f)' % roc_auc[i])\n",
    "    plt.plot([0, 1], [0, 1], 'k--')\n",
    "    plt.xlim([0.0, 1.0])\n",
    "    plt.ylim([0.0, 1.05])\n",
    "    plt.xlabel('False Positive Rate')\n",
    "    plt.ylabel('True Positive Rate')\n",
    "    plt.title('Receiver operating characteristic example class %s' % dict_classes[i])\n",
    "    plt.legend(loc=\"lower right\")\n",
    "    plt.show()\n"
   ]
  },
  {
   "cell_type": "code",
   "execution_count": null,
   "metadata": {},
   "outputs": [],
   "source": []
  },
  {
   "cell_type": "code",
   "execution_count": 24,
   "metadata": {},
   "outputs": [
    {
     "name": "stderr",
     "output_type": "stream",
     "text": [
      "/usr/local/lib/python3.7/site-packages/sklearn/svm/base.py:196: FutureWarning: The default value of gamma will change from 'auto' to 'scale' in version 0.22 to account better for unscaled features. Set gamma explicitly to 'auto' or 'scale' to avoid this warning.\n",
      "  \"avoid this warning.\", FutureWarning)\n",
      "/usr/local/lib/python3.7/site-packages/sklearn/svm/base.py:196: FutureWarning: The default value of gamma will change from 'auto' to 'scale' in version 0.22 to account better for unscaled features. Set gamma explicitly to 'auto' or 'scale' to avoid this warning.\n",
      "  \"avoid this warning.\", FutureWarning)\n",
      "/usr/local/lib/python3.7/site-packages/sklearn/svm/base.py:196: FutureWarning: The default value of gamma will change from 'auto' to 'scale' in version 0.22 to account better for unscaled features. Set gamma explicitly to 'auto' or 'scale' to avoid this warning.\n",
      "  \"avoid this warning.\", FutureWarning)\n"
     ]
    },
    {
     "name": "stdout",
     "output_type": "stream",
     "text": [
      "Accuracy of Logistic regression classifier A on training set: 0.70\n",
      "Accuracy of Logistic regression classifier A on test set: 0.68\n",
      "Accuracy of Logistic regression classifier H on training set: 0.60\n",
      "Accuracy of Logistic regression classifier H on test set: 0.56\n",
      "Accuracy of Logistic regression classifier D on training set: 0.71\n",
      "Accuracy of Logistic regression classifier D on test set: 0.76\n"
     ]
    },
    {
     "name": "stderr",
     "output_type": "stream",
     "text": [
      "/usr/local/lib/python3.7/site-packages/sklearn/svm/base.py:196: FutureWarning: The default value of gamma will change from 'auto' to 'scale' in version 0.22 to account better for unscaled features. Set gamma explicitly to 'auto' or 'scale' to avoid this warning.\n",
      "  \"avoid this warning.\", FutureWarning)\n",
      "/usr/local/lib/python3.7/site-packages/sklearn/svm/base.py:196: FutureWarning: The default value of gamma will change from 'auto' to 'scale' in version 0.22 to account better for unscaled features. Set gamma explicitly to 'auto' or 'scale' to avoid this warning.\n",
      "  \"avoid this warning.\", FutureWarning)\n",
      "/usr/local/lib/python3.7/site-packages/sklearn/svm/base.py:196: FutureWarning: The default value of gamma will change from 'auto' to 'scale' in version 0.22 to account better for unscaled features. Set gamma explicitly to 'auto' or 'scale' to avoid this warning.\n",
      "  \"avoid this warning.\", FutureWarning)\n"
     ]
    },
    {
     "data": {
      "image/png": "[encoded data removed]",
      "text/plain": [
       "<Figure size 432x288 with 1 Axes>"
      ]
     },
     "metadata": {
      "needs_background": "light"
     },
     "output_type": "display_data"
    },
    {
     "data": {
      "image/png": "[encoded data removed]",
      "text/plain": [
       "<Figure size 432x288 with 1 Axes>"
      ]
     },
     "metadata": {
      "needs_background": "light"
     },
     "output_type": "display_data"
    },
    {
     "data": {
      "image/png": "[encoded data removed]",
      "text/plain": [
       "<Figure size 432x288 with 1 Axes>"
      ]
     },
     "metadata": {
      "needs_background": "light"
     },
     "output_type": "display_data"
    }
   ],
   "source": [
    "y_train_A = pd.get_dummies(y_train)['A']\n",
    "y_test_A = pd.get_dummies(y_test)['A']\n",
    "\n",
    "svc = SVC()\n",
    "svc.fit(X_train, y_train_A)\n",
    "\n",
    "print('Accuracy of Logistic regression classifier A on training set: {:.2f}'\n",
    "     .format(svc.score(X_train, y_train_A)))\n",
    "\n",
    "print('Accuracy of Logistic regression classifier A on test set: {:.2f}'\n",
    "     .format(svc.score(X_test, y_test_A)))\n",
    "\n",
    "\n",
    "y_train_H = pd.get_dummies(y_train)['H']\n",
    "y_test_H = pd.get_dummies(y_test)['H']\n",
    "\n",
    "svc = SVC()\n",
    "svc.fit(X_train, y_train_H)\n",
    "\n",
    "print('Accuracy of Logistic regression classifier H on training set: {:.2f}'\n",
    "     .format(svc.score(X_train, y_train_H)))\n",
    "\n",
    "print('Accuracy of Logistic regression classifier H on test set: {:.2f}'\n",
    "     .format(svc.score(X_test, y_test_H)))\n",
    "\n",
    "\n",
    "y_train_D = pd.get_dummies(y_train)['D']\n",
    "y_test_D = pd.get_dummies(y_test)['D']\n",
    "\n",
    "svc = SVC()\n",
    "svc.fit(X_train, y_train_D)\n",
    "\n",
    "print('Accuracy of Logistic regression classifier D on training set: {:.2f}'\n",
    "     .format(svc.score(X_train, y_train_D)))\n",
    "\n",
    "print('Accuracy of Logistic regression classifier D on test set: {:.2f}'\n",
    "     .format(svc.score(X_test, y_test_D)))\n",
    "\n",
    "\n",
    "# classifier\n",
    "clf = OneVsRestClassifier(SVC())\n",
    "y_score = clf.fit(X_train, y_train_bin).decision_function(X_test)\n",
    "\n",
    "# Compute ROC curve and ROC area for each class\n",
    "fpr = dict()\n",
    "tpr = dict()\n",
    "roc_auc = dict()\n",
    "for i in range(n_classes):\n",
    "    fpr[i], tpr[i], _ = roc_curve(y_test_bin[:, i], y_score[:, i])\n",
    "    roc_auc[i] = auc(fpr[i], tpr[i])\n",
    "\n",
    "# Plot of a ROC curve for a specific class\n",
    "for i in range(n_classes):\n",
    "    plt.figure()\n",
    "    plt.plot(fpr[i], tpr[i], label='ROC curve (area = %0.2f)' % roc_auc[i])\n",
    "    plt.plot([0, 1], [0, 1], 'k--')\n",
    "    plt.xlim([0.0, 1.0])\n",
    "    plt.ylim([0.0, 1.05])\n",
    "    plt.xlabel('False Positive Rate')\n",
    "    plt.ylabel('True Positive Rate')\n",
    "    plt.title('Receiver operating characteristic example class %s' % dict_classes[i])\n",
    "    plt.legend(loc=\"lower right\")\n",
    "    plt.show()"
   ]
  },
  {
   "cell_type": "code",
   "execution_count": null,
   "metadata": {},
   "outputs": [],
   "source": []
  },
  {
   "cell_type": "code",
   "execution_count": null,
   "metadata": {},
   "outputs": [],
   "source": []
  },
  {
   "cell_type": "code",
   "execution_count": null,
   "metadata": {},
   "outputs": [],
   "source": []
  }
 ],
 "metadata": {
  "kernelspec": {
   "display_name": "Python 3",
   "language": "python",
   "name": "python3"
  },
  "language_info": {
   "codemirror_mode": {
    "name": "ipython",
    "version": 3
   },
   "file_extension": ".py",
   "mimetype": "text/x-python",
   "name": "python",
   "nbconvert_exporter": "python",
   "pygments_lexer": "ipython3",
   "version": "3.7.0"
  }
 },
 "nbformat": 4,
 "nbformat_minor": 2
}
